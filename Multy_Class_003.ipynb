{
 "cells": [
  {
   "cell_type": "code",
   "execution_count": 1,
   "id": "c0ca6968-9288-45c2-a71e-9386723df77d",
   "metadata": {},
   "outputs": [],
   "source": [
    "# Python ≥3.5 is required\n",
    "import sys\n",
    "assert sys.version_info >= (3, 5)\n",
    "\n",
    "# Is this notebook running on Colab or Kaggle?\n",
    "IS_COLAB = \"google.colab\" in sys.modules\n",
    "IS_KAGGLE = \"kaggle_secrets\" in sys.modules\n",
    "\n",
    "# Scikit-Learn ≥0.20 is required\n",
    "import sklearn\n",
    "assert sklearn.__version__ >= \"0.20\"\n",
    "\n",
    "# Common imports\n",
    "import numpy as np\n",
    "import os\n",
    "\n",
    "# to make this notebook's output stable across runs\n",
    "np.random.seed(42)\n",
    "\n",
    "# To plot pretty figures\n",
    "%matplotlib inline\n",
    "import matplotlib as mpl\n",
    "import matplotlib.pyplot as plt\n",
    "mpl.rc('axes', labelsize=14)\n",
    "mpl.rc('xtick', labelsize=12)\n",
    "mpl.rc('ytick', labelsize=12)\n",
    "\n",
    "# Where to save the figures\n",
    "PROJECT_ROOT_DIR = \".\"\n",
    "CHAPTER_ID = \"classification\"\n",
    "IMAGES_PATH = os.path.join(PROJECT_ROOT_DIR, \"images\", CHAPTER_ID)\n",
    "os.makedirs(IMAGES_PATH, exist_ok=True)\n",
    "\n",
    "def save_fig(fig_id, tight_layout=True, fig_extension=\"png\", resolution=300):\n",
    "    path = os.path.join(IMAGES_PATH, fig_id + \".\" + fig_extension)\n",
    "    print(\"Saving figure\", fig_id)\n",
    "    if tight_layout:\n",
    "        plt.tight_layout()\n",
    "    plt.savefig(path, format=fig_extension, dpi=resolution)"
   ]
  },
  {
   "cell_type": "code",
   "execution_count": 2,
   "id": "602d457d-ba3d-4268-b7ca-dd8ea4ef0431",
   "metadata": {},
   "outputs": [
    {
     "name": "stdout",
     "output_type": "stream",
     "text": [
      "D:/ML/\n",
      "Africa\n",
      "China\n",
      "MiddleEAST\n",
      "LatAmerica\n"
     ]
    }
   ],
   "source": [
    "import os\n",
    "import tarfile\n",
    "import urllib.request\n",
    "\n",
    "DOWNLOAD_ROOT = \"D:/ML/\"\n",
    "print(DOWNLOAD_ROOT)\n",
    "DATASET_PATH = os.path.join(\"datasets\", \"spam\")\n",
    "DIR_PATH = {\"Africa\":os.path.join(DATASET_PATH, \"Africa\"),\n",
    "            \"China\":os.path.join(DATASET_PATH, \"China\"),\n",
    "            \"MiddleEAST\":os.path.join(DATASET_PATH, \"MiddleEAST\"),\n",
    "           \"LatAmerica\":os.path.join(DATASET_PATH, \"LatAmerica\"),\n",
    "           }\n",
    "filenames = {}\n",
    "for items in DIR_PATH.keys():\n",
    "    print(items)\n",
    "    filenames[items] = [name for name in sorted(os.listdir(DIR_PATH[items])) if len(name) > 20] "
   ]
  },
  {
   "cell_type": "code",
   "execution_count": 3,
   "id": "2fc77ae4-8064-40ec-8174-3e3a2f9a163c",
   "metadata": {},
   "outputs": [],
   "source": [
    "def remove_chars_from_text(text, chars):\n",
    "    # return \"\".join([ch for ch in text if ch not in chars])\n",
    "    content = ''\n",
    "    for ch in text:\n",
    "        if ch not in chars:\n",
    "            content = content + ''.join(ch)\n",
    "        else:\n",
    "            content = content + ''.join(' ')\n",
    "    return content\n",
    "    \n",
    "\n",
    "x_temp = []\n",
    "y_temp = []\n",
    "for item in filenames.keys():\n",
    "    post_temp=[]\n",
    "    for names in filenames[item]:\n",
    "        from charset_normalizer import from_path\n",
    "        import string\n",
    "        import os\n",
    "        \"\"\"Работаем с txt-файлом\"\"\"        \n",
    "        spec_chars = string.punctuation + '\\r' + '\\n\\xa0«»\\t—…'\n",
    "               \n",
    "        content = str(from_path(DIR_PATH[item]+\"\\\\\"+names).best()).lower()\n",
    "        content = remove_chars_from_text(content, spec_chars)\n",
    "        content = remove_chars_from_text(content, string.digits)\n",
    "        x_temp.append(content)\n",
    "        if item=='Africa':\n",
    "            y_temp.append(1)\n",
    "        else:\n",
    "            y_temp.append(0)"
   ]
  },
  {
   "cell_type": "code",
   "execution_count": 4,
   "id": "7d407625-708a-4e59-93cf-e6e0bf56fc84",
   "metadata": {},
   "outputs": [],
   "source": [
    "import numpy as np\n",
    "from sklearn.model_selection import train_test_split\n",
    "\n",
    "\n",
    "X = np.array(x_temp, dtype=object)\n",
    "y = np.array(y_temp)\n",
    "\n",
    "X_train, X_test, y_train, y_test = train_test_split(X, y, test_size=0.2, random_state=42)"
   ]
  },
  {
   "cell_type": "code",
   "execution_count": 5,
   "id": "7cedde20-48e0-4297-80ab-8d4c1b637842",
   "metadata": {},
   "outputs": [
    {
     "name": "stdout",
     "output_type": "stream",
     "text": [
      "['\\u200b\\u200b🇮🇱🇵🇸 некоторые новости по израилю и хамас  🔹 израиль сообщил о гибели    военных за последние   дня в боях в секторе газы  среди погибших   офицер танковой бригады  майор арье рейн  всего  с    октября  в газе официально погибли     военнослужащих  по данным израиля  количество убитых боевиков хамас достигает   тысяч человек  🔹 за минувшие сутки около     палестинцев погибли в результате авианалётов израиля по сектору газы  минздрав хамас снова обвинил израильтян в неизбирательных бомбардировках густонаселённых районов  в частности  утверждают  что    человек погибли в результате удара по лагерю беженцев  аль магази  в центральных районах газы  а также    человека погибли после удара по хан юнесу на юге  израиль заявил  что уточняет эту информацию  🔹 издание wsj пишет со ссылкой на израильских военных  что битва за южную часть газы растянется на несколько месяцев  дольше  чем они ожидали  нетаньяху же призвал продолжать войну до победного конца  несмотря на высокую цену  🔹 по данным оон  более     тысяч палестинцев в газе находятся на грани голода из за бомбардировок и дефицита гуманитарки  🔹 на израильско ливанской границе продолжаются обстрелы  израиль закрыл все приграничные дороги для гражданских автомобилей  есть высокий риск эскалации боевых действий на земле  🔹 ещё    палестинцев арестованы израильскими силовиками в ходе рейда на западном берегу  общее количество задержанных после   октября составило       человек  🔹 в правительстве израиля заявили  что обсудят мирный план египта по завершению войны   израиль  палестина  '\n",
      " 'начальник главного разведывательного управления вооруженных сил эфиопии генерал гетаччоу гудина сотоварищи  один генерал майор  два бригадных генерала  три полковника   что характерно  ранее не отсвечивавших в медиа  провели переговоры с представителями вооруженных сил южного судана  три высших офицера и один старший  по видимому  того же профиля   интересно  что бы могло стать предметом их взаимного интереса  первое  что приходит на ум   подготовка кадров  возможно  есть и иные точки соприкосновения  к примеру  взаимный мониторинг передвижения инсургентов   '\n",
      " '🇮🇱❌🇵🇸  наши жизни важнее их жизней  – израиль использует палестинцев в качестве живого щитагазета haaretz сообщает  что израильские оккупационные силы систематически используют палестинских гражданских лиц в роли живого щита при проверке возможно заминированных туннелей по всей территории газы  расследование основано на показаниях израильских солдат и командиров  палестинцев одевают в форму израильской армии  устанавливают на них камеры и отправляют их в сильно разрушенные дома и входы в туннели со связанными пластиковыми стяжками руками ❗️ эта практика проводится с ведома высокопоставленных военных чиновников  включая начальника гештаба герци халеви  лучше пусть взрываются они  а не солдаты     вспоминает один из солдат  беседовавших с haaretz  как ему сказал командир  оправдывавший эту практику это еще раз доказывает  как далеко готов зайти  израиль  ценой человеческих жизней палестинцев в условиях всеобщего молчания  turkkulubu  '\n",
      " 'когда я устаю от пыли и зноя буркинийский столицы и мне хочется пообщаться с дикой природой  я еду к крокодилам буквально в получасе езды от уагадугу находится деревня базуле  где живут мои знакомые крокодилы  их много   в обмелевшем после сухого сезона пруду их явно больше тридцати  они приходят на зов и в общем ведут себя достаточно мирно я уже писала  что жители деревни считают крокодилов священными  дети играют с ними  как с кошками или собаками  а если какой нибудь из зубастиков умирает  его оплакивают и хоронят так же  как любого жителя деревни специально записала видео для мамы  которая считает  что на всех моих фото   муляж крокодила  что они не настоящие  потому что настоящие уж точно меня слопали бы  мамочка  не волнуйся  в нашем мире нет никого опаснее человека  а с людьми я как то уживаюсь уже n ное количество лет   '\n",
      " '🇸🇳  и рыбку съесть  и      о проблемах рыболовного промысла в сенегалена минувшей неделе сенегал был шокирован новым карантином  но не в связи с covid     дело в том  что в прибрежных водах недавно выявили новую кожную болезнь  первые симптомы которой в виде фурункулов на лице  шее  губах и гениталиях  а также гноя в глазах  высыпаний и отеков появились еще    ноября у жителей рыбацкого поселка чарой сюр мер  выходивших на промыслы в открытое море  всего было выявлено около     случаев   в чарое  сен луи  мбуре  ндайане и джоале природа болезни остается не проясненной  хотя  судя по всему  речь идет о дерматите с вирусной присадкой  институт пастер предварительно сообщил  что болезнь  возможно  имеет  токсикологическую  природу   речь идет о контакте рыбаков с морской водой  предположительно загрязненной опасными отходами  как бы то ни было  временный запрет на выход в море оказался очень болезненным психологическим шоком для    тысяч сенегальских рыбаков  ведь для кустарных рыбацких артелей этот традиционный промысел   главный источник заработков  а для страны   основной источник иностранной валюты и это   далеко не единственная проблема  всколыхнувшая сенегальское общество  и далеко не единственная напасть  преследующая сенегальских рыбаков  кустарная добыча становится все менее выгодной  ее издержки непрерывно растут  отрасль медленно деградирует  и на фоне стабильно высокой молодежной безработицы и падающих доходов многие принимают логичное решение   эмиграция в страны ес  которые  пораженные рецессией  все менее расположены принимать новые волны миграции  поэтому взаимосвязанные друг с другом нелегальная миграция и рыболовство – самые обсуждаемые  актуальные и злободневные темы  муссируемые всеми сегментами сенегальского общества и ведущими национальными сми  о том  как устроена эта отрасль в сенегале  о ее проблемах и их социальных последствиях для страны   в  новом материале сергея елединова   '\n",
      " 'губернатор флориды рон десантис подписал закон  запрещающий гражданам кубы  венесуэлы  россии  китая  кндр и ирана покупать имущество в штате при этом  гражданам кнр покупка имущества во флориде запрещена вообще  а остальным   только неподалеку от объектов критической инфраструктуры штата  с помощью таких мер десантис борется с влиянием коммунистической партии китая  которая  по его словам  хочет распространить свое влияние по всему миру  что касается остальных стран  то десантис заявил  что их интересы противоречат американсаим ценностям  не обошлось и без влияния кубинской диаспоры  которая внесла свои коррективы в закон  кубинцы и венесуэльцы  легально проживающие в штате на постоянной основе  не попадают под запрет   '\n",
      " '🇹🇷парламент турции принял законопроект  предусматривающий лишение свободы на срок от шести месяцев до двух лет для сотрудников муниципалитетов за неправильное обращение с бездомными животными  в турции  по данным властей  насчитывается порядка четыре миллиона бродячих собак  практически ежедневно регистрируются случаи их нападения на людей  подготовленный правящей партией справедливости и развития законопроект изначально предусматривал усыпление бродячих собак через тридцать дней с момента их попадания в приют  если они не обретут хозяев  это вызвало резкую критику в обществе  под давлением общественности термин  эвтаназия  был исключен из документа теперь в отношении бездомных животных  представляющих угрозу жизни и здоровью людей или страдающих неизлечимыми заболеваниями  будут применяться статьи закона о ветеринарных услугах  однако решение об усыплении будут принимать исключительно специалисты   ']\n",
      "[0 1 0 1 1 0 0]\n"
     ]
    }
   ],
   "source": [
    "print(X_train[:7])\n",
    "print(y_train[:7])"
   ]
  },
  {
   "cell_type": "code",
   "execution_count": 6,
   "id": "7e62a87b-1f58-4999-b71d-da5a72d86cda",
   "metadata": {},
   "outputs": [
    {
     "data": {
      "text/plain": [
       "5085"
      ]
     },
     "execution_count": 6,
     "metadata": {},
     "output_type": "execute_result"
    }
   ],
   "source": [
    "len(X_train)"
   ]
  },
  {
   "cell_type": "code",
   "execution_count": 7,
   "id": "e6217b83-f1a7-475c-93f0-7dfe5e9912a4",
   "metadata": {},
   "outputs": [],
   "source": [
    "from sklearn.base import BaseEstimator, TransformerMixin\n",
    "import urlextract # may require an Internet connection to download root domain names\n",
    "import re\n",
    "from collections import Counter\n",
    "import nltk\n",
    "from tokenizer_exceptions import normalizer_exc_rus\n",
    "ru_stopwords = set(\n",
    "        \"\"\"\n",
    "    а авось ага агу аж ай али алло ау ах ая\n",
    "    б будем будет будете будешь буду будут будучи будь будьте бы был была были было\n",
    "    быть бац без безусловно бишь благо благодаря ближайшие близко более больше\n",
    "    будто бывает бывала бывали бываю бывают бытует\n",
    "    в вам вами вас весь во вот все всё всего всей всем всём всеми всему всех всею\n",
    "    всея всю вся вы ваш ваша ваше ваши вдали вдобавок вдруг ведь везде вернее\n",
    "    взаимно взаправду видно вишь включая вместо внакладе вначале вне вниз внизу\n",
    "    вновь вовсе возможно воистину вокруг вон вообще вопреки вперекор вплоть\n",
    "    вполне вправду вправе впрочем впрямь вресноту вроде вряд всегда всюду\n",
    "    всякий всякого всякой всячески вчеред\n",
    "    г го где гораздо гав\n",
    "    д да для до дабы давайте давно давным даже далее далеко дальше данная\n",
    "    данного данное данной данном данному данные данный данных дану данунах\n",
    "    даром де действительно довольно доколе доколь долго должен должна\n",
    "    должно должны должный дополнительно другая другие другим другими\n",
    "    других другое другой\n",
    "    е его едим едят ее её ей ел ела ем ему емъ если ест есть ешь еще ещё ею едва\n",
    "    ежели еле\n",
    "    ж же\n",
    "    з за затем зато зачем здесь значит зря\n",
    "    и из или им ими имъ их ибо иль имеет имел имела имело именно иметь иначе\n",
    "    иногда иным иными итак ишь\n",
    "    й\n",
    "    к как кем ко когда кого ком кому комья которая которого которое которой котором\n",
    "    которому которою которую которые который которым которыми которых кто ка кабы\n",
    "    каждая каждое каждые каждый кажется казалась казались казалось казался казаться\n",
    "    какая какие каким какими каков какого какой какому какою касательно кой коли\n",
    "    коль конечно короче кроме кстати ку куда\n",
    "    л ли либо лишь любая любого любое любой любом любую любыми любых\n",
    "    м меня мне мной мною мог моги могите могла могли могло могу могут мое моё моего\n",
    "    моей моем моём моему моею можем может можете можешь мои мой моим моими моих\n",
    "    мочь мою моя мы мало меж между менее меньше мимо многие много многого многое\n",
    "    многом многому можно мол му\n",
    "    н на нам нами нас наса наш наша наше нашего нашей нашем нашему нашею наши нашим\n",
    "    нашими наших нашу не него нее неё ней нем нём нему нет нею ним ними них но\n",
    "    наверняка наверху навряд навыворот над надо назад наиболее наизворот\n",
    "    наизнанку наипаче накануне наконец наоборот наперед наперекор наподобие\n",
    "    например напротив напрямую насилу настоящая настоящее настоящие настоящий\n",
    "    насчет нате находиться начала начале неважно негде недавно недалеко незачем\n",
    "    некем некогда некому некоторая некоторые некоторый некоторых некто некуда\n",
    "    нельзя немногие немногим немного необходимо необходимости необходимые\n",
    "    необходимым неоткуда непрерывно нередко несколько нету неужели нечего\n",
    "    нечем нечему нечто нешто нибудь нигде ниже низко никак никакой никем\n",
    "    никогда никого никому никто никуда ниоткуда нипочем ничего ничем ничему\n",
    "    ничто ну нужная нужно нужного нужные нужный нужных ныне нынешнее нынешней\n",
    "    нынешних нынче\n",
    "    о об один одна одни одним одними одних одно одного одной одном одному одною\n",
    "    одну он она оне они оно от оба общую обычно ого однажды однако ой около оный\n",
    "    оп опять особенно особо особую особые откуда отнелижа отнелиже отовсюду\n",
    "    отсюда оттого оттот оттуда отчего отчему ох очевидно очень ом\n",
    "    п по при паче перед под подавно поди подобная подобно подобного подобные\n",
    "    подобный подобным подобных поелику пожалуй пожалуйста позже поистине\n",
    "    пока покамест поколе поколь покуда покудова помимо понеже поприще пор\n",
    "    пора посему поскольку после посреди посредством потом потому потомушта\n",
    "    похожем почему почти поэтому прежде притом причем про просто прочего\n",
    "    прочее прочему прочими проще прям пусть\n",
    "    р ради разве ранее рано раньше рядом\n",
    "    с сам сама сами самим самими самих само самого самом самому саму свое своё\n",
    "    своего своей своем своём своему своею свои свой своим своими своих свою своя\n",
    "    себе себя собой собою самая самое самой самый самых сверх свыше се сего сей\n",
    "    сейчас сие сих сквозь сколько скорее скоро следует слишком смогут сможет\n",
    "    сначала снова со собственно совсем сперва спокону спустя сразу среди сродни\n",
    "    стал стала стали стало стать суть сызнова\n",
    "    та то ту ты ти так такая такие таким такими таких такого такое такой таком такому такою\n",
    "    такую те тебе тебя тем теми тех тобой тобою того той только том томах тому\n",
    "    тот тою также таки таков такова там твои твоим твоих твой твоя твоё\n",
    "    теперь тогда тоже тотчас точно туда тут тьфу тая\n",
    "    у уже увы уж ура ух ую\n",
    "    ф фу\n",
    "    х ха хе хорошо хотел хотела хотелось хотеть хоть хотя хочешь хочу хуже\n",
    "    ч чего чем чём чему что чтобы часто чаще чей через чтоб чуть чхать чьим\n",
    "    чьих чьё чё\n",
    "    ш ша\n",
    "    щ ща щас\n",
    "    ы ых ые ый\n",
    "    э эта эти этим этими этих это этого этой этом этому этот этою эту эдак эдакий\n",
    "    эй эка экий этак этакий эх\n",
    "    ю\n",
    "    я явно явных яко якобы якоже\n",
    "    \n",
    "    и что не это  быть этот это свой как - этот весь быть что ▫ но г. %\n",
    "    \"\"\".split()\n",
    "    )\n",
    "stemmer = nltk.PorterStemmer()\n",
    "class EmailToWordCounterTransformer(BaseEstimator, TransformerMixin):\n",
    "    def __init__(self, strip_headers=True, lower_case=True, remove_punctuation=True,\n",
    "                 replace_urls=True, replace_numbers=True, stemming=True, remove_stopwords=True):\n",
    "        self.strip_headers = strip_headers\n",
    "        self.lower_case = lower_case\n",
    "        self.remove_punctuation = remove_punctuation\n",
    "        self.replace_urls = replace_urls\n",
    "        self.replace_numbers = replace_numbers\n",
    "        self.stemming = stemming\n",
    "        self.remove_stopwords = remove_stopwords\n",
    "    def fit(self, X, y=None):\n",
    "        return self\n",
    "    def transform(self, X, y=None):\n",
    "        X_transformed = []\n",
    "        for email in X:\n",
    "            text = email or \"\"\n",
    "            text = normalizer_exc_rus(text)\n",
    "            if self.lower_case:\n",
    "                text = text.lower()\n",
    "            if self.replace_urls and url_extractor is not None:\n",
    "                urls = list(set(url_extractor.find_urls(text)))\n",
    "                urls.sort(key=lambda url: len(url), reverse=True)\n",
    "                for url in urls:\n",
    "                    text = text.replace(url, \"\")\n",
    "            if self.replace_numbers:\n",
    "                text = re.sub(r'\\d+(?:\\.\\d*)?(?:[eE][+-]?\\d+)?', '', text)\n",
    "            if self.remove_punctuation:\n",
    "                text = re.sub(r'\\W+', ' ', text, flags=re.M)\n",
    "            if self.remove_stopwords:\n",
    "                filtered_words = []\n",
    "                for token in text.split():\n",
    "                    if token not in ru_stopwords:\n",
    "                        filtered_words.append(token)\n",
    " \n",
    "                # Join the filtered words to form a clean text\n",
    "                text = ' '.join(filtered_words)\n",
    "            word_counts = Counter(text.split())\n",
    "            if self.stemming and stemmer is not None:\n",
    "                stemmed_word_counts = Counter()\n",
    "                for word, count in word_counts.items():\n",
    "                    stemmed_word = stemmer.stem(word)\n",
    "                    stemmed_word_counts[stemmed_word] += count\n",
    "                word_counts = stemmed_word_counts\n",
    "            X_transformed.append(word_counts)\n",
    "        return np.array(X_transformed)"
   ]
  },
  {
   "cell_type": "code",
   "execution_count": 8,
   "id": "ffd63b2b-c8d6-4890-91b9-85d9415242de",
   "metadata": {},
   "outputs": [],
   "source": [
    "try:\n",
    "    import urlextract # may require an Internet connection to download root domain names\n",
    "    \n",
    "    url_extractor = urlextract.URLExtract()\n",
    "except ImportError:\n",
    "    url_extractor = None"
   ]
  },
  {
   "cell_type": "code",
   "execution_count": 52,
   "id": "29412511-4aac-48f5-ae77-2667b9255756",
   "metadata": {},
   "outputs": [],
   "source": [
    "from scipy.sparse import csr_matrix\n",
    "\n",
    "class WordCounterToVectorTransformer(BaseEstimator, TransformerMixin):\n",
    "    def __init__(self, vocabulary_size=4000):\n",
    "        self.vocabulary_size = vocabulary_size\n",
    "    def fit(self, X, y=None):\n",
    "        total_count = Counter()\n",
    "        for word_count in X:\n",
    "            for word, count in word_count.items():\n",
    "                total_count[word] += min(count, 10)\n",
    "        most_common = total_count.most_common()[:self.vocabulary_size]\n",
    "        self.vocabulary_ = {word: index + 1 for index, (word, count) in enumerate(most_common)}\n",
    "        return self\n",
    "    def transform(self, X, y=None):\n",
    "        rows = []\n",
    "        cols = []\n",
    "        data = []\n",
    "        for row, word_count in enumerate(X):\n",
    "            for word, count in word_count.items():\n",
    "                rows.append(row)\n",
    "                cols.append(self.vocabulary_.get(word, 0))\n",
    "                data.append(count)\n",
    "        return csr_matrix((data, (rows, cols)), shape=(len(X), self.vocabulary_size + 1))"
   ]
  },
  {
   "cell_type": "code",
   "execution_count": 27,
   "id": "236928cd-ae40-4821-a57b-b00e7f0d1483",
   "metadata": {},
   "outputs": [],
   "source": [
    "from sklearn.pipeline import Pipeline\n",
    "\n",
    "preprocess_pipeline = Pipeline([\n",
    "    (\"email_to_wordcount\", EmailToWordCounterTransformer()),\n",
    "    (\"wordcount_to_vector\", WordCounterToVectorTransformer(vocabulary_size=7000)),\n",
    "])\n",
    "\n",
    "X_train_transformed = preprocess_pipeline.fit_transform(X_train)"
   ]
  },
  {
   "cell_type": "code",
   "execution_count": 28,
   "id": "a1292c80-0f1a-4dd1-bd19-c581b593f1de",
   "metadata": {},
   "outputs": [
    {
     "name": "stdout",
     "output_type": "stream",
     "text": [
      "[CV] END ................................ score: (test=0.944) total time=   0.1s\n",
      "[CV] END ................................ score: (test=0.940) total time=   0.1s\n",
      "[CV] END ................................ score: (test=0.934) total time=   0.1s\n"
     ]
    },
    {
     "data": {
      "text/plain": [
       "0.9394296951819076"
      ]
     },
     "execution_count": 28,
     "metadata": {},
     "output_type": "execute_result"
    }
   ],
   "source": [
    "from sklearn.linear_model import LogisticRegression\n",
    "from sklearn.model_selection import cross_val_score\n",
    "\n",
    "log_clf = LogisticRegression(solver=\"lbfgs\", max_iter=6000, random_state=42)\n",
    "score = cross_val_score(log_clf, X_train_transformed, y_train, cv=3, verbose=3)\n",
    "score.mean()"
   ]
  },
  {
   "cell_type": "code",
   "execution_count": 12,
   "id": "fd1f2eaf-6cdb-4aba-bf8a-0a75df016107",
   "metadata": {},
   "outputs": [
    {
     "name": "stdout",
     "output_type": "stream",
     "text": [
      "Precision: 94.42%\n",
      "Recall: 94.42%\n"
     ]
    }
   ],
   "source": [
    "from sklearn.metrics import precision_score, recall_score\n",
    "\n",
    "X_test_transformed = preprocess_pipeline.transform(X_test)\n",
    "\n",
    "log_clf = LogisticRegression(solver=\"lbfgs\", max_iter=6000, random_state=42)\n",
    "log_clf.fit(X_train_transformed, y_train)\n",
    "\n",
    "y_pred = log_clf.predict(X_test_transformed)\n",
    "\n",
    "print(\"Precision: {:.2f}%\".format(100 * precision_score(y_test, y_pred, average='micro')))\n",
    "print(\"Recall: {:.2f}%\".format(100 * recall_score(y_test, y_pred, average='micro')))"
   ]
  },
  {
   "cell_type": "code",
   "execution_count": 13,
   "id": "6cd10c33-eb3d-4fc1-8cbf-f4d1fbc547e3",
   "metadata": {},
   "outputs": [
    {
     "name": "stdout",
     "output_type": "stream",
     "text": [
      "и т.д. - и так далее\n",
      "людами: суп-шорба, кус-кус/беркукес/тлитли с мясом и т.д.Могилу посещают каждое утро, в течении трех дней. Через 40 дней устанавливают небольшое надгр\n",
      "[1 0 0 0 0 0]\n"
     ]
    }
   ],
   "source": [
    "new_text = ['Нигер последовал примеру Мали, разорвав связи с Украиной после того, как пресс-секретарь разведывательного агентства Министерства обороны Украины признал, что Украина оказывала поддержку повстанцам, которые убили малийских вооруженных сил и российских агентов 25-27 июля в Тинзауатене, на севере Мали, недалеко от границы с Алжиром.Посол Украины в Сенегале также выразил безоговорочную поддержку малийским повстанцам, что привело к вызову посла в МИД Сенегала.',\n",
    "            'Еще новости афганской промышленности. В Кандагаре спустя 18 лет возобновила работу текстильная фабрика. Официальные лица говорят, что они отремонтировали оборудование на фабрике за шесть месяцев, сообщают афганское СМИ. По словам работников фабрики, с возобновлением работы фабрики созданы рабочие места. 69-летний Мохаммад, проработавший на текстильной фабрике в Кандагаре значительное время, рад вернуться на работу.',\n",
    "           'Накопленное непонимание между Китаем и США не может быть решено лишь одним подобным изящным жестом. Страны расходятся по широкому кругу вопросов, санкционный механизм против Китая не ослаблен. Поэтому отправка панд – это скорее демонстрация миролюбивой позиции Китая в противовес США.',\n",
    "            'В Алжире, как правило, на похоронах мужчины сидят около дома, хорошо, если есть сад или терраса, а женщины в доме, надеть платок женщина должна обязательно, даже если в обычной жизни она не покрывает голову. Если покойный жил в квартире, то прямо во дворе ставят стулья и шатры со столами для мужчин.Готовят либо нанятые кухарки, либо родственницы покойного. Пока составляла пост от подруги услышала,что в их семье часто еду приносят те, кто приходит в дом, а готовить должны невестки, а не дочери умершего. Мой муж сказал, что это совершенно необязательно, на похоронах его бабушки готовили только её дочери, это было их желание и никаких особых правил на счёт этого нет. Обязательного блюда на поминки в Алжире нет. Народ приходит помянутьот трех дней до недели, если у человека была большая семья и много знакомых!Кормят традиционными блюдами: суп-шорба, кус-кус/беркукес/тлитли с мясом и т.д.Могилу посещают каждое утро, в течении трех дней. Через 40 дней устанавливают небольшое надгробие, никаких памятников,вычурных элементов. На надгробии имя, фамилия, даты рождения и смерти, фотографий нет. Вроде бы написала всё, что знала. Задавайте вопросы в комментариях, если таковые имеются.',\n",
    "            'Skyeton K-10 Swift - упал У с. Лесновичи в Львовской области… Геопривязка: (49.853000, 23.570500) Курсант ХНУВС разбился в ходе вылета на этом учебно тренировочном самолете… Датировано: 27.07.2024.',\n",
    "            'Сегодня в Венесуэле проходят президентские выборы. Мой коллега Дмитрий Морозов рассуждает, как их итоги могут повлиять на дальнейший путь страны. Вот самое важное из его статьи.📍В выборах один тур, участвуют десять кандидатов, однако только двое имеют реальные шансы на победу: действующий президент Николас Мадуро и Эдмундо Гонсалес Уррутия, кандидат от Единой демократической платформы, объединяющей наиболее значимые оппозиционные партии.'\n",
    "           ]\n",
    "accuracy = log_clf.predict(preprocess_pipeline.transform(new_text))\n",
    "\n",
    "print (accuracy)"
   ]
  },
  {
   "cell_type": "code",
   "execution_count": 15,
   "id": "a187ee04-4617-47bd-92bf-3b2cb9b2961b",
   "metadata": {},
   "outputs": [],
   "source": [
    "import pickle\n",
    "with open('churn-model.bin', 'wb') as f_out:\n",
    "    pickle.dump(log_clf, f_out)"
   ]
  },
  {
   "cell_type": "code",
   "execution_count": 18,
   "id": "a0e73a07-c11f-4c10-ac05-c237120be0e4",
   "metadata": {},
   "outputs": [
    {
     "data": {
      "text/plain": [
       "[<matplotlib.lines.Line2D at 0x1e7a8e57050>]"
      ]
     },
     "execution_count": 18,
     "metadata": {},
     "output_type": "execute_result"
    },
    {
     "data": {
      "image/png": "[encoded data removed]",
      "text/plain": [
       "<Figure size 500x500 with 1 Axes>"
      ]
     },
     "metadata": {},
     "output_type": "display_data"
    }
   ],
   "source": [
    "from sklearn.metrics import roc_curve\n",
    "fpr, tpr, thresholds = roc_curve(y_test, y_pred)\n",
    "plt.figure(figsize=(5, 5))\n",
    "plt.plot(fpr, tpr)\n",
    "plt.plot([0, 1], [0, 1])"
   ]
  },
  {
   "cell_type": "code",
   "execution_count": 58,
   "id": "ff1c9d79-0357-4dad-a170-6dafd298b84b",
   "metadata": {},
   "outputs": [
    {
     "name": "stdout",
     "output_type": "stream",
     "text": [
      "   1 -> 0.557\n",
      "   2 -> 0.617\n",
      "   3 -> 0.661\n",
      "   4 -> 0.706\n",
      "   5 -> 0.732\n",
      "   6 -> 0.756\n",
      "  10 -> 0.816\n",
      "  15 -> 0.868\n",
      "  20 -> 0.891\n",
      "  30 -> 0.914\n",
      "  45 -> 0.923\n",
      "  60 -> 0.923\n",
      "None -> 0.923\n"
     ]
    }
   ],
   "source": [
    "from sklearn.tree import DecisionTreeClassifier\n",
    "from sklearn.metrics import roc_auc_score\n",
    "preprocess_pipeline = Pipeline([\n",
    "        (\"email_to_wordcount\", EmailToWordCounterTransformer()),\n",
    "        (\"wordcount_to_vector\", WordCounterToVectorTransformer()),\n",
    "    ])\n",
    "X_train_transformed = preprocess_pipeline.fit_transform(X_train)\n",
    "for depth in [1, 2, 3, 4, 5, 6, 10, 15, 20, 30, 45, 60, None]:\n",
    "    rf = DecisionTreeClassifier(max_depth=depth , min_samples_leaf=50)\n",
    "    rf.fit(X_train_transformed, y_train)\n",
    "    y_pred = rf.predict_proba(X_train_transformed)[:, 1]\n",
    "    auc = roc_auc_score(y_train, y_pred)\n",
    "    print('%4s -> %.3f' % (depth, auc))"
   ]
  },
  {
   "cell_type": "code",
   "execution_count": 55,
   "id": "a381d32d-af91-4b87-bb86-e6aef9d07010",
   "metadata": {},
   "outputs": [
    {
     "name": "stdout",
     "output_type": "stream",
     "text": [
      "depth: 4\n",
      "  10 -> 0.707\n",
      "  50 -> 0.706\n",
      " 100 -> 0.694\n",
      " 150 -> 0.665\n",
      " 200 -> 0.663\n",
      " 300 -> 0.649\n",
      " 400 -> 0.648\n",
      " 500 -> 0.648\n",
      "depth: 10\n",
      "  10 -> 0.817\n",
      "  50 -> 0.816\n",
      " 100 -> 0.806\n",
      " 150 -> 0.754\n",
      " 200 -> 0.706\n",
      " 300 -> 0.658\n",
      " 400 -> 0.653\n",
      " 500 -> 0.651\n",
      "depth: 30\n",
      "  10 -> 0.927\n",
      "  50 -> 0.914\n",
      " 100 -> 0.867\n",
      " 150 -> 0.801\n",
      " 200 -> 0.711\n",
      " 300 -> 0.658\n",
      " 400 -> 0.653\n",
      " 500 -> 0.651\n"
     ]
    }
   ],
   "source": [
    "for m in [4, 10, 30]:\n",
    "    print('depth: %s' % m)\n",
    "    for s in [10, 50, 100, 150, 200, 300, 400, 500]:\n",
    "        rf = DecisionTreeClassifier(max_depth=m, min_samples_leaf=s)\n",
    "        rf.fit(X_train_transformed, y_train)\n",
    "        y_pred = rf.predict_proba(X_train_transformed)[:, 1]\n",
    "        auc = roc_auc_score(y_train, y_pred)\n",
    "        print('%4s -> %.3f' % (s, auc))"
   ]
  },
  {
   "cell_type": "code",
   "execution_count": 67,
   "id": "8684e4a2-6825-4b4a-92f0-c1b572ed21c7",
   "metadata": {},
   "outputs": [
    {
     "name": "stdout",
     "output_type": "stream",
     "text": [
      "0.661\n"
     ]
    }
   ],
   "source": [
    "X_test_transformed = preprocess_pipeline.transform(X_test)\n",
    "\n",
    "rf = DecisionTreeClassifier(max_depth=10, min_samples_leaf=300)\n",
    "rf.fit(X_train_transformed, y_train)\n",
    "y_pred = rf.predict_proba(X_test_transformed)[:, 1]\n",
    "auc = roc_auc_score(y_test, y_pred)\n",
    "print('%.3f' % ( auc))"
   ]
  },
  {
   "cell_type": "code",
   "execution_count": 65,
   "id": "f9240a6f-6061-4c4f-9d93-cb3f7912e56e",
   "metadata": {},
   "outputs": [
    {
     "name": "stdout",
     "output_type": "stream",
     "text": [
      "   1 -> 0.567\n",
      "   2 -> 0.618\n",
      "   3 -> 0.644\n",
      "   4 -> 0.702\n",
      "   5 -> 0.721\n",
      "   6 -> 0.723\n",
      "  10 -> 0.739\n",
      "  15 -> 0.744\n",
      "  20 -> 0.744\n",
      "  30 -> 0.744\n",
      "  45 -> 0.744\n",
      "  60 -> 0.744\n",
      "None -> 0.744\n"
     ]
    }
   ],
   "source": [
    "X_test_transformed = preprocess_pipeline.transform(X_test)\n",
    "for depth in [1, 2, 3, 4, 5, 6, 10, 15, 20, 30, 45, 60, None]:\n",
    "    rf = DecisionTreeClassifier(max_depth=depth, min_samples_leaf=200)\n",
    "    rf.fit(X_train_transformed, y_train)\n",
    "    y_pred = rf.predict_proba(X_test_transformed)[:, 1]\n",
    "    auc = roc_auc_score(y_test, y_pred)\n",
    "    print('%4s -> %.3f' % (depth, auc))"
   ]
  },
  {
   "cell_type": "code",
   "execution_count": 66,
   "id": "df244e9d-a5cb-4763-a6b7-787ab021c3ac",
   "metadata": {},
   "outputs": [
    {
     "name": "stdout",
     "output_type": "stream",
     "text": [
      "depth: 10\n",
      "  10 -> 0.907\n",
      "  50 -> 0.912\n",
      " 100 -> 0.870\n",
      " 150 -> 0.799\n",
      " 200 -> 0.744\n",
      " 300 -> 0.661\n",
      " 400 -> 0.662\n",
      " 500 -> 0.661\n",
      "depth: 15\n",
      "  10 -> 0.910\n",
      "  50 -> 0.912\n",
      " 100 -> 0.870\n",
      " 150 -> 0.799\n",
      " 200 -> 0.744\n",
      " 300 -> 0.661\n",
      " 400 -> 0.662\n",
      " 500 -> 0.661\n",
      "depth: 20\n",
      "  10 -> 0.910\n",
      "  50 -> 0.912\n",
      " 100 -> 0.870\n",
      " 150 -> 0.799\n",
      " 200 -> 0.744\n",
      " 300 -> 0.661\n",
      " 400 -> 0.662\n",
      " 500 -> 0.661\n"
     ]
    }
   ],
   "source": [
    "for m in [10, 15, 20]:\n",
    "    print('depth: %s' % m)\n",
    "    for s in [10, 50, 100, 150, 200, 300, 400, 500]:\n",
    "        rf = DecisionTreeClassifier(max_depth=depth, min_samples_leaf=s)\n",
    "        rf.fit(X_train_transformed, y_train)\n",
    "        y_pred = rf.predict_proba(X_test_transformed)[:, 1]\n",
    "        auc = roc_auc_score(y_test, y_pred)\n",
    "        print('%4s -> %.3f' % (s, auc))"
   ]
  },
  {
   "cell_type": "code",
   "execution_count": 60,
   "id": "17b83721-d46e-46dd-a043-ee885a7dc4a4",
   "metadata": {},
   "outputs": [
    {
     "name": "stdout",
     "output_type": "stream",
     "text": [
      "10 -> 1.000\n",
      "20 -> 1.000\n",
      "30 -> 1.000\n",
      "40 -> 1.000\n",
      "50 -> 1.000\n",
      "60 -> 1.000\n",
      "70 -> 1.000\n",
      "80 -> 1.000\n",
      "90 -> 1.000\n",
      "100 -> 1.000\n",
      "110 -> 1.000\n",
      "120 -> 1.000\n",
      "130 -> 1.000\n",
      "140 -> 1.000\n",
      "150 -> 1.000\n",
      "160 -> 1.000\n",
      "170 -> 1.000\n",
      "180 -> 1.000\n",
      "190 -> 1.000\n",
      "200 -> 1.000\n"
     ]
    },
    {
     "data": {
      "text/plain": [
       "[<matplotlib.lines.Line2D at 0x1e7e4450050>]"
      ]
     },
     "execution_count": 60,
     "metadata": {},
     "output_type": "execute_result"
    },
    {
     "data": {
      "image/png": "[encoded data removed]",
      "text/plain": [
       "<Figure size 640x480 with 1 Axes>"
      ]
     },
     "metadata": {},
     "output_type": "display_data"
    }
   ],
   "source": [
    "from sklearn.ensemble import RandomForestClassifier\n",
    "from sklearn.metrics import roc_auc_score\n",
    "preprocess_pipeline = Pipeline([\n",
    "        (\"email_to_wordcount\", EmailToWordCounterTransformer()),\n",
    "        (\"wordcount_to_vector\", WordCounterToVectorTransformer()),\n",
    "    ])\n",
    "X_train_transformed = preprocess_pipeline.fit_transform(X_train)\n",
    "\n",
    "aucs = []\n",
    "for i in range(10, 201, 10):\n",
    "    rf = RandomForestClassifier(n_estimators=i, random_state=3)\n",
    "    rf.fit(X_train_transformed, y_train)\n",
    "    y_pred = rf.predict_proba(X_train_transformed)[:, 1]\n",
    "    auc = roc_auc_score(y_train, y_pred)\n",
    "    print('%s -> %.3f' % (i, auc))\n",
    "    aucs.append(auc)\n",
    "plt.plot(range(10, 201, 10), aucs)"
   ]
  },
  {
   "cell_type": "code",
   "execution_count": null,
   "id": "7ca788c7-3d49-4756-96b5-d4b9615badd7",
   "metadata": {},
   "outputs": [],
   "source": []
  }
 ],
 "metadata": {
  "kernelspec": {
   "display_name": "Python 3 (ipykernel)",
   "language": "python",
   "name": "python3"
  },
  "language_info": {
   "codemirror_mode": {
    "name": "ipython",
    "version": 3
   },
   "file_extension": ".py",
   "mimetype": "text/x-python",
   "name": "python",
   "nbconvert_exporter": "python",
   "pygments_lexer": "ipython3",
   "version": "3.11.0"
  }
 },
 "nbformat": 4,
 "nbformat_minor": 5
}
