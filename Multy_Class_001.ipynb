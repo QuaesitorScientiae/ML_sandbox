{
 "cells": [
  {
   "cell_type": "code",
   "execution_count": 24,
   "id": "c0ca6968-9288-45c2-a71e-9386723df77d",
   "metadata": {},
   "outputs": [],
   "source": [
    "# Python ≥3.5 is required\n",
    "import sys\n",
    "assert sys.version_info >= (3, 5)\n",
    "\n",
    "# Is this notebook running on Colab or Kaggle?\n",
    "IS_COLAB = \"google.colab\" in sys.modules\n",
    "IS_KAGGLE = \"kaggle_secrets\" in sys.modules\n",
    "\n",
    "# Scikit-Learn ≥0.20 is required\n",
    "import sklearn\n",
    "assert sklearn.__version__ >= \"0.20\"\n",
    "\n",
    "# Common imports\n",
    "import numpy as np\n",
    "import os\n",
    "\n",
    "# to make this notebook's output stable across runs\n",
    "np.random.seed(42)\n",
    "\n",
    "# To plot pretty figures\n",
    "%matplotlib inline\n",
    "import matplotlib as mpl\n",
    "import matplotlib.pyplot as plt\n",
    "mpl.rc('axes', labelsize=14)\n",
    "mpl.rc('xtick', labelsize=12)\n",
    "mpl.rc('ytick', labelsize=12)\n",
    "\n",
    "# Where to save the figures\n",
    "PROJECT_ROOT_DIR = \".\"\n",
    "CHAPTER_ID = \"classification\"\n",
    "IMAGES_PATH = os.path.join(PROJECT_ROOT_DIR, \"images\", CHAPTER_ID)\n",
    "os.makedirs(IMAGES_PATH, exist_ok=True)\n",
    "\n",
    "def save_fig(fig_id, tight_layout=True, fig_extension=\"png\", resolution=300):\n",
    "    path = os.path.join(IMAGES_PATH, fig_id + \".\" + fig_extension)\n",
    "    print(\"Saving figure\", fig_id)\n",
    "    if tight_layout:\n",
    "        plt.tight_layout()\n",
    "    plt.savefig(path, format=fig_extension, dpi=resolution)"
   ]
  },
  {
   "cell_type": "code",
   "execution_count": 25,
   "id": "602d457d-ba3d-4268-b7ca-dd8ea4ef0431",
   "metadata": {},
   "outputs": [
    {
     "name": "stdout",
     "output_type": "stream",
     "text": [
      "D:/ML/\n",
      "Africa\n",
      "China\n",
      "MiddleEAST\n",
      "LatAmerica\n",
      "IranPakistanAfganistan\n"
     ]
    }
   ],
   "source": [
    "import os\n",
    "import tarfile\n",
    "import urllib.request\n",
    "\n",
    "DOWNLOAD_ROOT = \"D:/ML/\"\n",
    "print(DOWNLOAD_ROOT)\n",
    "DATASET_PATH = os.path.join(\"datasets\", \"spam\")\n",
    "DIR_PATH = {\"Africa\":os.path.join(DATASET_PATH, \"Africa\"),\n",
    "            \"China\":os.path.join(DATASET_PATH, \"China\"),\n",
    "            \"MiddleEAST\":os.path.join(DATASET_PATH, \"MiddleEAST\"),\n",
    "           \"LatAmerica\":os.path.join(DATASET_PATH, \"LatAmerica\"),\n",
    "           \"IranPakistanAfganistan\":os.path.join(DATASET_PATH, \"IranPakistanAfganistan\"),}\n",
    "filenames = {}\n",
    "for items in DIR_PATH.keys():\n",
    "    print(items)\n",
    "    filenames[items] = [name for name in sorted(os.listdir(DIR_PATH[items])) if len(name) > 20] "
   ]
  },
  {
   "cell_type": "code",
   "execution_count": 26,
   "id": "2fc77ae4-8064-40ec-8174-3e3a2f9a163c",
   "metadata": {},
   "outputs": [],
   "source": [
    "from charset_normalizer import from_path\n",
    "import string\n",
    "\n",
    "def remove_chars_from_text(text, chars):\n",
    "    # return \"\".join([ch for ch in text if ch not in chars])\n",
    "    content = ''\n",
    "    for ch in text:\n",
    "        if ch not in chars:\n",
    "            content = content + ''.join(ch)\n",
    "        else:\n",
    "            content = content + ''.join(' ')\n",
    "    return content\n",
    "\n",
    "import re\n",
    "\n",
    "def remove_emojis(data):\n",
    "    emoj = re.compile(\"[\"\n",
    "        u\"\\U0001F600-\\U0001F64F\"  # emoticons\n",
    "        u\"\\U0001F300-\\U0001F5FF\"  # symbols & pictographs\n",
    "        u\"\\U0001F680-\\U0001F6FF\"  # transport & map symbols\n",
    "        u\"\\U0001F1E0-\\U0001F1FF\"  # flags (iOS)\n",
    "        u\"\\U00002500-\\U00002BEF\"  # chinese char\n",
    "        u\"\\U00002702-\\U000027B0\"\n",
    "        u\"\\U000024C2-\\U0001F251\"\n",
    "        u\"\\U0001f926-\\U0001f937\"\n",
    "        u\"\\U00010000-\\U0010ffff\"\n",
    "        u\"\\u2640-\\u2642\" \n",
    "        u\"\\u2600-\\u2B55\"\n",
    "        u\"\\u200d\"\n",
    "        u\"\\u23cf\"\n",
    "        u\"\\u23e9\"\n",
    "        u\"\\u231a\"\n",
    "        u\"\\ufe0f\"  # dingbats\n",
    "        u\"\\u3030\"\n",
    "                      \"]+\", re.UNICODE)\n",
    "    return re.sub(emoj, '', data)\n",
    "spec_chars = string.punctuation + '\\r' + '\\n\\xa0«»\\t—…' \n",
    "\n",
    "x_temp = []\n",
    "y_temp = []\n",
    "for item in filenames.keys():\n",
    "    post_temp=[]\n",
    "    for names in filenames[item]:\n",
    "        content = str(from_path(DIR_PATH[item]+\"\\\\\"+names).best()).lower()  \n",
    "        content = remove_emojis(content)\n",
    "        content = re.sub(r'(\\\\u[0-9A-Fa-f]+)', lambda matchobj: chr(int(matchobj.group(0)[2:], 16)), content)\n",
    "        content = remove_chars_from_text(content, spec_chars)\n",
    "        content = remove_chars_from_text(content, string.digits)\n",
    "        for i in range(1, 5):\n",
    "            content = content.replace('  ', ' ')\n",
    "        x_temp.append(content)\n",
    "        y_temp.append(item)"
   ]
  },
  {
   "cell_type": "code",
   "execution_count": 27,
   "id": "7d407625-708a-4e59-93cf-e6e0bf56fc84",
   "metadata": {},
   "outputs": [],
   "source": [
    "import numpy as np\n",
    "from sklearn.model_selection import train_test_split\n",
    "\n",
    "\n",
    "X = np.array(x_temp, dtype=object)\n",
    "y = np.array(y_temp)\n",
    "\n",
    "X_train, X_test, y_train, y_test = train_test_split(X, y, test_size=0.2, random_state=42)"
   ]
  },
  {
   "cell_type": "code",
   "execution_count": 28,
   "id": "7cedde20-48e0-4297-80ab-8d4c1b637842",
   "metadata": {},
   "outputs": [
    {
     "name": "stdout",
     "output_type": "stream",
     "text": [
      "[' конго с по июля примет переговоры ливийских политических сторон нацеленные на завершение пути по национальному примирению в переговорах которые пройдут в столице конго браззавиле примут участие представители ливийского главнокомандования палаты представителей верховного государственного совета президентского совета пне а также представители сейфа ислама каддафи и группы из гедамеса мероприятия пойдут под эгидой африканского союза планируется изучение аналогичного опыта тех стран в которых процесс национального примирения оказался успешным также целью переговоров является разработка рабочего механизма урегулирования кризиса '\n",
      " ' продолжая тему изоляции тайваня необходимо пояснить почему китай может выбрать такой способ решения вопроса или подготовки к его решению цель такой операции не полностью оторвать тайвань от мира а утвердить контроль над ним основная задача заставить страны и компании соблюдать условия китая которые власти установят для судов направляющихся на остров у такого подхода есть несколько преимуществ изоляция не будет рассматриваться в качестве объявления войны кроме того такая операция не требует перекрытия тайваньского пролива попытки китая ограничить воздушное или морское сообщение с островом могут позволить пекину продемонстрировать что тайвань не контролирует ту территорию на которую претендует одни лишь угрозы могут заставить судоходные компаний подчиниться а значит китаю не придется перехватывать много кораблей чтобы добиться желаемого эффекта результатом изоляции может стать заметный скачок цен из за издержек судоходных компаний на тайване могут использовать это чтобы показать неэффективность местных властей это может привести либо к потере общественной поддержки либо к усилению политического давления на тайваньскую администрацию с целью проведения переговоров с пекином проведение такой операции усложняет то как могут отреагировать сша и другие причина изоляция не является объявлением войны а поэтому оправдать прямое иностранное вмешательство так просто не получится китай может увеличивать или уменьшать численность развертываемых сил в зависимости от степени соблюдения требований и других факторов пекин также может в любой момент остановить операцию заявив о выполнении целей гибкость главное преимущество этого сценария но и здесь есть определенные ограничения если цель пекина заставить тайвань капитулировать китаю придется перейти к другим вариантам военная блокада станет ключевым сценарием присоединения острова без полномасштабного вторжения awaken dragon '\n",
      " ' вот сидишь долгое время и думаешь какие хитрые немцы придумали не только систему think tank но и партийные фонды и нашли творческий выхлоп для кучи студентов международников нашли чит код для этой жизни можно сказать тем более для такой крупной партии как сдпг которая разве что с хдс хсс посоревнуется по ресурсам и концентрации человеческого капитала а потом видишь как о шольц вполне предсказуемо получает отказ от лула да силвы и вот задумываешься а есть ли у них аналитика по латинской америке а так ли она качественно работает у германии ведь есть вполне себе сильные исследовательские центры где пишут о бразильской политике у них консультировались вообще по такому вопросу как поставка вооружений а как вообще тогда проводится отбор и анализ информации а википедию они хотя бы открывали '\n",
      " ' эфиопиялалибеламесто паломничества многих эфиопов город с православными церквями большинство из которых вырезано из цельного камня королём священником лалибелой на пятом фото – третий в веке церквей но одна не действовала долго и её попросили не учитывать так что церквей или смотря как считать один из храмов разделён на две части синай и голгофа можно считать как один храм можно как два но в голгофу женщинам нельзя и фото – голгофа как раз все храмы действующие в них каждый день проходит служба на шестом фото священник отдыхает в храмы заходим без обуви для женщин своя дверь для мужчин – своя для священников – третья интересная деталь – во время песнопений используются местные барабаны видео прикреплю в комментариях в целом – впечатляет перелёт из аддис абебы занимает час '\n",
      " 'потенциальное вмешательство нато в мали и новый дипломатический скандал июня в мадриде состоялся саммит нато на котором утвердили новую cтратегическую концепцию альянса не обошлось без упоминаний ситуации в сахеле и заявлений вызвавших резкую реакцию малийского правительства министр иностранных дел испании хосе мануэль альбарес заявил в четверг что не исключает вмешательства организации североатлантического договора нато в мали если бы это представляло угрозу нашей безопасности мы бы это сделали заявил министр цитирую по jeune afrique малийское правительство вызвало испанского посла для объяснений о чем объявил по национальному телевиденью министр иностранных дел мали абдулай диоп эти высказывания неприемлемы недружественны серьезны поскольку они склонны поощрять агрессию против независимой и суверенной страны оценил глава малийской дипломатии мы запросили объяснение разъяснение этой позиции от правительства испании мы надеемся что мы получим его достаточно быстро цитирую по voa объяснения действительно были вскоре получены посольство испании в мали опубликовало официальное коммюнике в котором заявило что испания не требовала во время саммита нато или в любое другое время какого либо вмешательства миссии или действия альянса в мали и заверило в глубоких дружественных связях между испанией и мали о возможности военного вмешательства нато в мали опубликовали статью в dw пока что военное вмешательство оценивается как маловероятное я не очень хорошо понимаю как военная операция может быть политически приемлемой для африканских стран заявил жером пинье специалист по сахелю для мали похоже даже разговоры о вероятности такой операции оказались абсолютно неприемлемы '\n",
      " 'свершилось исполнительный продюсер леонардо ди каприо выпускает документальный фильм мы хранители коренные жители бразилии рассказывают как оберегают свои земли от вырубки в условиях незаконной лесозаготовительной деятельности здорово что ди каприо действительно так заинтересовался защитой амазонки совсем недавно кстати вышел игровой фильм с ди каприо убийцы цветочной луны про коренной народ америки на который свалились богатства от найденной на их территории нефти '\n",
      " 'умерший на днях бывший алжирский президент бутефлика запомнился в том числе и тем что возглавлял страну будучи фактически в недееспособном состоянии когда в марте г парализованный бутефлика в очередной раз подал заявку на президентские выборы в стране начались массовые протестные акции мы много раз указывали на то что в подобных политических системах официальный лидер является компромиссной фигурой для разных групп в политической элите постоянное переизбрание одного и того же деда сидит он в инвалидном кресле или в бункере является для элиты гарантией стабильности но объективно говоря это есть показатель деградации политической элиты утратившей способность меняться и хотя бы просто договориться между собой и найти новую компромиссную фигуру лидера очень часто на ближнем востоке и постсоветском пространстве политическая элита особенно если это по умолчанию ограниченные siloviki никак не может придумать что то более эффективное чем снова и снова двигать овощных бутефлик в президенты игнорируя неумолимое течение времени и беспощадность некоторых исторических процессов ']\n",
      "['MiddleEAST' 'China' 'LatAmerica' 'Africa' 'MiddleEAST' 'LatAmerica'\n",
      " 'MiddleEAST']\n"
     ]
    }
   ],
   "source": [
    "print(X_train[:7])\n",
    "print(y_train[:7])"
   ]
  },
  {
   "cell_type": "code",
   "execution_count": 29,
   "id": "7e62a87b-1f58-4999-b71d-da5a72d86cda",
   "metadata": {},
   "outputs": [
    {
     "data": {
      "text/plain": [
       "5524"
      ]
     },
     "execution_count": 29,
     "metadata": {},
     "output_type": "execute_result"
    }
   ],
   "source": [
    "len(X_train)"
   ]
  },
  {
   "cell_type": "code",
   "execution_count": 30,
   "id": "e6217b83-f1a7-475c-93f0-7dfe5e9912a4",
   "metadata": {},
   "outputs": [],
   "source": [
    "from sklearn.base import BaseEstimator, TransformerMixin\n",
    "import urlextract # may require an Internet connection to download root domain names\n",
    "import re\n",
    "from collections import Counter\n",
    "import nltk\n",
    "from tokenizer_exceptions import normalizer_exc_rus\n",
    "from nltk.corpus import stopwords\n",
    "russian_stopwords = stopwords.words(\"russian\")\n",
    "\n",
    "stemmer = nltk.PorterStemmer()\n",
    "class EmailToWordCounterTransformer(BaseEstimator, TransformerMixin):\n",
    "    def __init__(self, strip_headers=True, lower_case=True, remove_punctuation=True,\n",
    "                 replace_urls=True, replace_numbers=True, stemming=True, remove_stopwords=True):\n",
    "        self.strip_headers = strip_headers\n",
    "        self.lower_case = lower_case\n",
    "        self.remove_punctuation = remove_punctuation\n",
    "        self.replace_urls = replace_urls\n",
    "        self.replace_numbers = replace_numbers\n",
    "        self.stemming = stemming\n",
    "        self.remove_stopwords = remove_stopwords\n",
    "    def fit(self, X, y=None):\n",
    "        return self\n",
    "    def transform(self, X, y=None):\n",
    "        X_transformed = []\n",
    "        for email in X:\n",
    "            text = email or \"\"\n",
    "            text = normalizer_exc_rus(text).lower()\n",
    "            if self.lower_case:\n",
    "                text = text.lower()\n",
    "            if self.replace_urls and url_extractor is not None:\n",
    "                urls = list(set(url_extractor.find_urls(text)))\n",
    "                urls.sort(key=lambda url: len(url), reverse=True)\n",
    "                for url in urls:\n",
    "                    text = text.replace(url, \" URL \")\n",
    "            if self.replace_numbers:\n",
    "                text = re.sub(r'\\d+(?:\\.\\d*)?(?:[eE][+-]?\\d+)?', 'NUMBER', text)\n",
    "            if self.remove_punctuation:\n",
    "                text = re.sub(r'\\W+', ' ', text, flags=re.M)\n",
    "            word_counts = Counter(text.split())\n",
    "            if self.remove_stopwords:\n",
    "                filtered_words = [token.text for token in text if not russian_stopwords]\n",
    " \n",
    "                # Join the filtered words to form a clean text\n",
    "                text = ' '.join(filtered_words)\n",
    "            if self.stemming and stemmer is not None:\n",
    "                stemmed_word_counts = Counter()\n",
    "                for word, count in word_counts.items():\n",
    "                    stemmed_word = stemmer.stem(word)\n",
    "                    stemmed_word_counts[stemmed_word] += count\n",
    "                word_counts = stemmed_word_counts\n",
    "            X_transformed.append(word_counts)\n",
    "        return np.array(X_transformed)"
   ]
  },
  {
   "cell_type": "code",
   "execution_count": 31,
   "id": "ffd63b2b-c8d6-4890-91b9-85d9415242de",
   "metadata": {},
   "outputs": [],
   "source": [
    "try:\n",
    "    import urlextract # may require an Internet connection to download root domain names\n",
    "    \n",
    "    url_extractor = urlextract.URLExtract()\n",
    "except ImportError:\n",
    "    url_extractor = None"
   ]
  },
  {
   "cell_type": "code",
   "execution_count": 32,
   "id": "29412511-4aac-48f5-ae77-2667b9255756",
   "metadata": {},
   "outputs": [],
   "source": [
    "from scipy.sparse import csr_matrix\n",
    "\n",
    "class WordCounterToVectorTransformer(BaseEstimator, TransformerMixin):\n",
    "    def __init__(self, vocabulary_size=4000):\n",
    "        self.vocabulary_size = vocabulary_size\n",
    "    def fit(self, X, y=None):\n",
    "        total_count = Counter()\n",
    "        for word_count in X:\n",
    "            for word, count in word_count.items():\n",
    "                total_count[word] += min(count, 10)\n",
    "        most_common = total_count.most_common()[:self.vocabulary_size]\n",
    "        self.vocabulary_ = {word: index + 1 for index, (word, count) in enumerate(most_common)}\n",
    "        return self\n",
    "    def transform(self, X, y=None):\n",
    "        rows = []\n",
    "        cols = []\n",
    "        data = []\n",
    "        for row, word_count in enumerate(X):\n",
    "            for word, count in word_count.items():\n",
    "                rows.append(row)\n",
    "                cols.append(self.vocabulary_.get(word, 0))\n",
    "                data.append(count)\n",
    "        return csr_matrix((data, (rows, cols)), shape=(len(X), self.vocabulary_size + 1))"
   ]
  },
  {
   "cell_type": "code",
   "execution_count": 33,
   "id": "236928cd-ae40-4821-a57b-b00e7f0d1483",
   "metadata": {},
   "outputs": [],
   "source": [
    "from sklearn.pipeline import Pipeline\n",
    "\n",
    "preprocess_pipeline = Pipeline([\n",
    "    (\"email_to_wordcount\", EmailToWordCounterTransformer()),\n",
    "    (\"wordcount_to_vector\", WordCounterToVectorTransformer()),\n",
    "])\n",
    "\n",
    "X_train_transformed = preprocess_pipeline.fit_transform(X_train)"
   ]
  },
  {
   "cell_type": "code",
   "execution_count": 34,
   "id": "a1292c80-0f1a-4dd1-bd19-c581b593f1de",
   "metadata": {},
   "outputs": [
    {
     "name": "stdout",
     "output_type": "stream",
     "text": [
      "[CV] END ................................ score: (test=0.885) total time=   2.0s\n",
      "[CV] END ................................ score: (test=0.882) total time=   2.2s\n",
      "[CV] END ................................ score: (test=0.873) total time=   2.2s\n"
     ]
    },
    {
     "data": {
      "text/plain": [
       "0.8803394078223471"
      ]
     },
     "execution_count": 34,
     "metadata": {},
     "output_type": "execute_result"
    }
   ],
   "source": [
    "from sklearn.linear_model import LogisticRegression\n",
    "from sklearn.model_selection import cross_val_score\n",
    "\n",
    "log_clf = LogisticRegression(solver=\"lbfgs\", max_iter=5000, random_state=42)\n",
    "score = cross_val_score(log_clf, X_train_transformed, y_train, cv=3, verbose=3)\n",
    "score.mean()"
   ]
  },
  {
   "cell_type": "code",
   "execution_count": 35,
   "id": "fd1f2eaf-6cdb-4aba-bf8a-0a75df016107",
   "metadata": {},
   "outputs": [
    {
     "name": "stdout",
     "output_type": "stream",
     "text": [
      "Precision: 90.30%\n",
      "Recall: 90.30%\n"
     ]
    }
   ],
   "source": [
    "from sklearn.metrics import precision_score, recall_score\n",
    "\n",
    "X_test_transformed = preprocess_pipeline.transform(X_test)\n",
    "\n",
    "log_clf = LogisticRegression(solver=\"lbfgs\", max_iter=6000, random_state=42)\n",
    "log_clf.fit(X_train_transformed, y_train)\n",
    "\n",
    "y_pred = log_clf.predict(X_test_transformed)\n",
    "\n",
    "print(\"Precision: {:.2f}%\".format(100 * precision_score(y_test, y_pred, average='micro')))\n",
    "print(\"Recall: {:.2f}%\".format(100 * recall_score(y_test, y_pred, average='micro')))"
   ]
  },
  {
   "cell_type": "code",
   "execution_count": 36,
   "id": "6cd10c33-eb3d-4fc1-8cbf-f4d1fbc547e3",
   "metadata": {},
   "outputs": [
    {
     "name": "stdout",
     "output_type": "stream",
     "text": [
      "и т.д. - и так далее\n",
      "людами: суп-шорба, кус-кус/беркукес/тлитли с мясом и т.д.Могилу посещают каждое утро, в течении трех дней. Через 40 дней устанавливают небольшое надгр\n",
      "['Africa' 'Africa' 'China' 'MiddleEAST' 'LatAmerica']\n"
     ]
    }
   ],
   "source": [
    "new_text = ['Нигер последовал примеру Мали, разорвав связи с Украиной после того, как пресс-секретарь разведывательного агентства Министерства обороны Украины признал, что Украина оказывала поддержку повстанцам, которые убили малийских вооруженных сил и российских агентов 25-27 июля в Тинзауатене, на севере Мали, недалеко от границы с Алжиром.Посол Украины в Сенегале также выразил безоговорочную поддержку малийским повстанцам, что привело к вызову посла в МИД Сенегала.',\n",
    "            'Еще новости афганской промышленности. В Кандагаре спустя 18 лет возобновила работу текстильная фабрика. Официальные лица говорят, что они отремонтировали оборудование на фабрике за шесть месяцев, сообщают афганское СМИ. По словам работников фабрики, с возобновлением работы фабрики созданы рабочие места. 69-летний Мохаммад, проработавший на текстильной фабрике в Кандагаре значительное время, рад вернуться на работу.',\n",
    "           'Накопленное непонимание между Китаем и США не может быть решено лишь одним подобным изящным жестом. Страны расходятся по широкому кругу вопросов, санкционный механизм против Китая не ослаблен. Поэтому отправка панд – это скорее демонстрация миролюбивой позиции Китая в противовес США.',\n",
    "            'В Алжире, как правило, на похоронах мужчины сидят около дома, хорошо, если есть сад или терраса, а женщины в доме, надеть платок женщина должна обязательно, даже если в обычной жизни она не покрывает голову. Если покойный жил в квартире, то прямо во дворе ставят стулья и шатры со столами для мужчин.Готовят либо нанятые кухарки, либо родственницы покойного. Пока составляла пост от подруги услышала,что в их семье часто еду приносят те, кто приходит в дом, а готовить должны невестки, а не дочери умершего. Мой муж сказал, что это совершенно необязательно, на похоронах его бабушки готовили только её дочери, это было их желание и никаких особых правил на счёт этого нет. Обязательного блюда на поминки в Алжире нет. Народ приходит помянутьот трех дней до недели, если у человека была большая семья и много знакомых!Кормят традиционными блюдами: суп-шорба, кус-кус/беркукес/тлитли с мясом и т.д.Могилу посещают каждое утро, в течении трех дней. Через 40 дней устанавливают небольшое надгробие, никаких памятников,вычурных элементов. На надгробии имя, фамилия, даты рождения и смерти, фотографий нет. Вроде бы написала всё, что знала. Задавайте вопросы в комментариях, если таковые имеются.',\n",
    "            'Сегодня в Венесуэле проходят президентские выборы. Мой коллега Дмитрий Морозов рассуждает, как их итоги могут повлиять на дальнейший путь страны. Вот самое важное из его статьи.📍В выборах один тур, участвуют десять кандидатов, однако только двое имеют реальные шансы на победу: действующий президент Николас Мадуро и Эдмундо Гонсалес Уррутия, кандидат от Единой демократической платформы, объединяющей наиболее значимые оппозиционные партии.'\n",
    "           ]\n",
    "accuracy = log_clf.predict(preprocess_pipeline.transform(new_text))\n",
    "\n",
    "print (accuracy)"
   ]
  },
  {
   "cell_type": "code",
   "execution_count": null,
   "id": "a187ee04-4617-47bd-92bf-3b2cb9b2961b",
   "metadata": {},
   "outputs": [],
   "source": []
  }
 ],
 "metadata": {
  "kernelspec": {
   "display_name": "Python 3 (ipykernel)",
   "language": "python",
   "name": "python3"
  },
  "language_info": {
   "codemirror_mode": {
    "name": "ipython",
    "version": 3
   },
   "file_extension": ".py",
   "mimetype": "text/x-python",
   "name": "python",
   "nbconvert_exporter": "python",
   "pygments_lexer": "ipython3",
   "version": "3.11.0"
  }
 },
 "nbformat": 4,
 "nbformat_minor": 5
}
