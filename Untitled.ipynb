{
 "cells": [
  {
   "cell_type": "code",
   "execution_count": null,
   "id": "757a3c3f-9214-4439-9303-cbefca05871a",
   "metadata": {},
   "outputs": [],
   "source": [
    "# Программа для очистки БД текстов по странам с использованием модели (contry_post-model_ngram_rf_RandomForest.bin)"
   ]
  },
  {
   "cell_type": "code",
   "execution_count": null,
   "id": "3a667c16-e946-4bf5-840c-6ae632cb0f17",
   "metadata": {},
   "outputs": [],
   "source": []
  }
 ],
 "metadata": {
  "kernelspec": {
   "display_name": "Python 3 (ipykernel)",
   "language": "python",
   "name": "python3"
  },
  "language_info": {
   "codemirror_mode": {
    "name": "ipython",
    "version": 3
   },
   "file_extension": ".py",
   "mimetype": "text/x-python",
   "name": "python",
   "nbconvert_exporter": "python",
   "pygments_lexer": "ipython3",
   "version": "3.11.0"
  }
 },
 "nbformat": 4,
 "nbformat_minor": 5
}
