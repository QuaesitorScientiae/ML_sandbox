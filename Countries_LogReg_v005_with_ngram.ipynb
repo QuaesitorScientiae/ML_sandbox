{
 "cells": [
  {
   "cell_type": "code",
   "execution_count": 164,
   "id": "a8fa3dfd-2fd1-425a-b850-6264639551a4",
   "metadata": {},
   "outputs": [
    {
     "name": "stdout",
     "output_type": "stream",
     "text": [
      "D:/ML/\n",
      "Afganistan\n",
      "China\n",
      "CAR\n",
      "Ethiopia\n",
      "India\n",
      "Iran\n",
      "KNDR\n",
      "Libya\n",
      "Morocco\n",
      "Sudan\n",
      "Syria\n",
      "Turkey\n",
      "Argentina\n",
      "DRK_Congo\n",
      "Burkina Faso\n",
      "Niger\n",
      "Mali\n",
      "Senegal\n",
      "Egipet\n",
      "Gvineya\n",
      "Venesuela\n",
      "Algeria\n",
      "Zimbabve\n",
      "Tunis\n",
      "Chad\n",
      "GanaGana\n",
      "Pakistan\n",
      "Vetnam\n",
      "Laos\n"
     ]
    }
   ],
   "source": [
    "import os\n",
    "import tarfile\n",
    "import urllib.request\n",
    "\n",
    "DOWNLOAD_ROOT = \"D:/ML/\"\n",
    "print(DOWNLOAD_ROOT)\n",
    "DATASET_PATH = os.path.join(\"datasets\", \"Countries\")\n",
    "DIR_PATH = {\"Afganistan\":os.path.join(DATASET_PATH, \"Afganistan\"),\n",
    "            \"China\":os.path.join(DATASET_PATH, \"China\"),\n",
    "            \"CAR\":os.path.join(DATASET_PATH, \"CAR\"),\n",
    "           \"Ethiopia\":os.path.join(DATASET_PATH, \"Ethiopia\"),\n",
    "           \"India\":os.path.join(DATASET_PATH, \"India\"),\n",
    "           \"Iran\":os.path.join(DATASET_PATH, \"Iran\"),\n",
    "            \"KNDR\":os.path.join(DATASET_PATH, \"KNDR\"),\n",
    "            \"Libya\":os.path.join(DATASET_PATH, \"Libya\"),\n",
    "           \"Morocco\":os.path.join(DATASET_PATH, \"Morocco\"),\n",
    "           \"Sudan\":os.path.join(DATASET_PATH, \"Sudan\"),\n",
    "           \"Syria\":os.path.join(DATASET_PATH, \"Syria\"),\n",
    "           \"Turkey\":os.path.join(DATASET_PATH, \"Turkey\"),\n",
    "            \"Argentina\":os.path.join(DATASET_PATH, \"Argentina\"),\n",
    "            \"DRK_Congo\":os.path.join(DATASET_PATH, \"DRK_Congo\"),\n",
    "            \"Burkina Faso\":os.path.join(DATASET_PATH, \"Burkina Faso\"),\n",
    "            \"Niger\":os.path.join(DATASET_PATH, \"Niger\"),\n",
    "            \"Mali\":os.path.join(DATASET_PATH, \"Mali\"),\n",
    "            \"Senegal\":os.path.join(DATASET_PATH, \"Senegal\"),\n",
    "            \"Egipet\":os.path.join(DATASET_PATH, \"Egipet\"),\n",
    "            \"Gvineya\":os.path.join(DATASET_PATH, \"Gvineya\"),\n",
    "            \"Venesuela\":os.path.join(DATASET_PATH, \"Venesuela\"),\n",
    "            \"Algeria\":os.path.join(DATASET_PATH, \"Algeria\"),\n",
    "            \"Zimbabve\":os.path.join(DATASET_PATH, \"Zimbabve\"),\n",
    "            \"Tunis\":os.path.join(DATASET_PATH, \"Tunis\"),\n",
    "            \"Chad\":os.path.join(DATASET_PATH, \"Chad\"),\n",
    "            \"GanaGana\":os.path.join(DATASET_PATH, \"Gana\"),\n",
    "            \"Pakistan\":os.path.join(DATASET_PATH, \"Pakistan\"),\n",
    "            \"Vetnam\":os.path.join(DATASET_PATH, \"Vetnam\"),\n",
    "            \"Laos\":os.path.join(DATASET_PATH, \"Laos\"),\n",
    "           }\n",
    "filenames = {}\n",
    "for items in DIR_PATH.keys():\n",
    "    print(items)\n",
    "    filenames[items] = [name for name in sorted(os.listdir(DIR_PATH[items])) ] "
   ]
  },
  {
   "cell_type": "code",
   "execution_count": 165,
   "id": "5f8c7ecd-412e-497f-bce8-bb31fc2d3c70",
   "metadata": {},
   "outputs": [],
   "source": [
    "stemming=False # Stemming control\n",
    "from nltk.stem.snowball import SnowballStemmer\n",
    "stemmer = SnowballStemmer(\"russian\")"
   ]
  },
  {
   "cell_type": "code",
   "execution_count": 166,
   "id": "66a986f5-0f7e-4ff7-bbe4-2df47daedaad",
   "metadata": {
    "jupyter": {
     "source_hidden": true
    }
   },
   "outputs": [],
   "source": [
    "ru_stopwords = set(\n",
    "        \"\"\"\n",
    "    а авось ага агу аж ай али алло ау ах ая\n",
    "    б будем будет будете будешь буду будут будучи будь будьте бы был была были было\n",
    "    быть бац без безусловно бишь благо благодаря ближайшие близко более больше\n",
    "    будто бывает бывала бывали бываю бывают бытует\n",
    "    в вам вами вас весь во вот все всё всего всей всем всём всеми всему всех всею\n",
    "    всея всю вся вы ваш ваша ваше ваши вдали вдобавок вдруг ведь везде вернее\n",
    "    взаимно взаправду видно вишь включая вместо внакладе вначале вне вниз внизу\n",
    "    вновь вовсе возможно воистину вокруг вон вообще вопреки вперекор вплоть\n",
    "    вполне вправду вправе впрочем впрямь вресноту вроде вряд всегда всюду\n",
    "    всякий всякого всякой всячески вчеред\n",
    "    г го где гораздо гав\n",
    "    д да для до дабы давайте давно давным даже далее далеко дальше данная\n",
    "    данного данное данной данном данному данные данный данных дану данунах\n",
    "    даром де действительно довольно доколе доколь долго должен должна\n",
    "    должно должны должный дополнительно другая другие другим другими\n",
    "    других другое другой\n",
    "    е его едим едят ее её ей ел ела ем ему емъ если ест есть ешь еще ещё ею едва\n",
    "    ежели еле\n",
    "    ж же\n",
    "    з за затем зато зачем здесь значит зря\n",
    "    и из или им ими имъ их ибо иль имеет имел имела имело именно иметь иначе\n",
    "    иногда иным иными итак ишь\n",
    "    й\n",
    "    к как кем ко когда кого ком кому комья которая которого которое которой котором\n",
    "    которому которою которую которые который которым которыми которых кто ка кабы\n",
    "    каждая каждое каждые каждый кажется казалась казались казалось казался казаться\n",
    "    какая какие каким какими каков какого какой какому какою касательно кой коли\n",
    "    коль конечно короче кроме кстати ку куда\n",
    "    л ли либо лишь любая любого любое любой любом любую любыми любых\n",
    "    м меня мне мной мною мог моги могите могла могли могло могу могут мое моё моего\n",
    "    моей моем моём моему моею можем может можете можешь мои мой моим моими моих\n",
    "    мочь мою моя мы мало меж между менее меньше мимо многие много многого многое\n",
    "    многом многому можно мол му\n",
    "    н на нам нами нас наса наш наша наше нашего нашей нашем нашему нашею наши нашим\n",
    "    нашими наших нашу не него нее неё ней нем нём нему нет нею ним ними них но\n",
    "    наверняка наверху навряд навыворот над надо назад наиболее наизворот\n",
    "    наизнанку наипаче накануне наконец наоборот наперед наперекор наподобие\n",
    "    например напротив напрямую насилу настоящая настоящее настоящие настоящий\n",
    "    насчет нате находиться начала начале неважно негде недавно недалеко незачем\n",
    "    некем некогда некому некоторая некоторые некоторый некоторых некто некуда\n",
    "    нельзя немногие немногим немного необходимо необходимости необходимые\n",
    "    необходимым неоткуда непрерывно нередко несколько нету неужели нечего\n",
    "    нечем нечему нечто нешто нибудь нигде ниже низко никак никакой никем\n",
    "    никогда никого никому никто никуда ниоткуда нипочем ничего ничем ничему\n",
    "    ничто ну нужная нужно нужного нужные нужный нужных ныне нынешнее нынешней\n",
    "    нынешних нынче\n",
    "    о об один одна одни одним одними одних одно одного одной одном одному одною\n",
    "    одну он она оне они оно от оба общую обычно ого однажды однако ой около оный\n",
    "    оп опять особенно особо особую особые откуда отнелижа отнелиже отовсюду\n",
    "    отсюда оттого оттот оттуда отчего отчему ох очевидно очень ом\n",
    "    п по при паче перед под подавно поди подобная подобно подобного подобные\n",
    "    подобный подобным подобных поелику пожалуй пожалуйста позже поистине\n",
    "    пока покамест поколе поколь покуда покудова помимо понеже поприще пор\n",
    "    пора посему поскольку после посреди посредством потом потому потомушта\n",
    "    похожем почему почти поэтому прежде притом причем про просто прочего\n",
    "    прочее прочему прочими проще прям пусть\n",
    "    р ради разве ранее рано раньше рядом\n",
    "    с сам сама сами самим самими самих само самого самом самому саму свое своё\n",
    "    своего своей своем своём своему своею свои свой своим своими своих свою своя\n",
    "    себе себя собой собою самая самое самой самый самых сверх свыше се сего сей\n",
    "    сейчас сие сих сквозь сколько скорее скоро следует слишком смогут сможет\n",
    "    сначала снова со собственно совсем сперва спокону спустя сразу среди сродни\n",
    "    стал стала стали стало стать суть сызнова\n",
    "    та то ту ты ти так такая такие таким такими таких такого такое такой таком такому такою\n",
    "    такую те тебе тебя тем теми тех тобой тобою того той только том томах тому\n",
    "    тот тою также таки таков такова там твои твоим твоих твой твоя твоё\n",
    "    теперь тогда тоже тотчас точно туда тут тьфу тая\n",
    "    у уже увы уж ура ух ую\n",
    "    ф фу\n",
    "    х ха хе хорошо хотел хотела хотелось хотеть хоть хотя хочешь хочу хуже\n",
    "    ч чего чем чём чему что чтобы часто чаще чей через чтоб чуть чхать чьим\n",
    "    чьих чьё чё\n",
    "    ш ша\n",
    "    щ ща щас\n",
    "    ы ых ые ый\n",
    "    э эта эти этим этими этих это этого этой этом этому этот этою эту эдак эдакий\n",
    "    эй эка экий этак этакий эх\n",
    "    ю\n",
    "    я явно явных яко якобы якоже\n",
    "    \n",
    "    и что не это  быть этот это свой как - этот весь быть что ▫ но г. %\n",
    "\n",
    "    afgbezparandzhi argentinarusa irandezhurniy info raspp аль\n",
    "    \"\"\".split()\n",
    "    )"
   ]
  },
  {
   "cell_type": "code",
   "execution_count": 167,
   "id": "1df2bc88-3e04-4d01-ba1c-44d4dc6e40b8",
   "metadata": {},
   "outputs": [],
   "source": [
    "from charset_normalizer import from_path\n",
    "import string\n",
    "\n",
    "def remove_chars_from_text(text, chars):\n",
    "    # return \"\".join([ch for ch in text if ch not in chars])\n",
    "    content = ''\n",
    "    for ch in text:\n",
    "        if ch not in chars:\n",
    "            content = content + ''.join(ch)\n",
    "        else:\n",
    "            content = content + ''.join(' ')\n",
    "    return content\n",
    "\n",
    "import re\n",
    "\n",
    "def remove_emojis(data):\n",
    "    emoj = re.compile(\"[\"\n",
    "        u\"\\U0001F600-\\U0001F64F\"  # emoticons\n",
    "        u\"\\U0001F300-\\U0001F5FF\"  # symbols & pictographs\n",
    "        u\"\\U0001F680-\\U0001F6FF\"  # transport & map symbols\n",
    "        u\"\\U0001F1E0-\\U0001F1FF\"  # flags (iOS)\n",
    "        u\"\\U00002500-\\U00002BEF\"  # chinese char\n",
    "        u\"\\U00002702-\\U000027B0\"\n",
    "        u\"\\U000024C2-\\U0001F251\"\n",
    "        u\"\\U0001f926-\\U0001f937\"\n",
    "        u\"\\U00010000-\\U0010ffff\"\n",
    "        u\"\\u2640-\\u2642\" \n",
    "        u\"\\u2600-\\u2B55\"\n",
    "        u\"\\u200d\"\n",
    "        u\"\\u23cf\"\n",
    "        u\"\\u23e9\"\n",
    "        u\"\\u231a\"\n",
    "        u\"\\ufe0f\"  # dingbats\n",
    "        u\"\\u3030\"\n",
    "                      \"]+\", re.UNICODE)\n",
    "    return re.sub(emoj, '', data)\n",
    "spec_chars = string.punctuation + '\\r' + '\\n\\xa0«»\\t—…' \n",
    "\n",
    "x_temp = []\n",
    "y_temp = []\n",
    "for item in filenames.keys():\n",
    "    post_temp=[]\n",
    "    for names in filenames[item]:\n",
    "        content = str(from_path(DIR_PATH[item]+\"\\\\\"+names).best()).lower()  \n",
    "        content = remove_emojis(content)\n",
    "        # content = re.sub(r'(\\\\u[0-9A-Fa-f]+)', lambda matchobj: chr(int(matchobj.group(0)[2:], 16)), content)\n",
    "        content = remove_chars_from_text(content, spec_chars)\n",
    "        content = remove_chars_from_text(content, string.digits)\n",
    "        for i in range(1, 10):\n",
    "            content = content.replace('  ', ' ')\n",
    "        filtered_words = []\n",
    "        for token in content.split():\n",
    "            if token not in ru_stopwords and len(token)>2:\n",
    "                if stemming and token is not None:\n",
    "                    filtered_words.append(stemmer.stem(token))\n",
    "                    #print('{} -{}'.format(token,stemmer.stem(token)))\n",
    "                else:\n",
    "                    filtered_words.append(token)\n",
    "                      \n",
    "        content = ' '.join(filtered_words)                \n",
    "        x_temp.append(content)\n",
    "        y_temp.append(item)"
   ]
  },
  {
   "cell_type": "code",
   "execution_count": 168,
   "id": "074394cb-3f8c-47bd-86bb-6f64fb0e7b1a",
   "metadata": {},
   "outputs": [
    {
     "data": {
      "text/plain": [
       "8658"
      ]
     },
     "execution_count": 168,
     "metadata": {},
     "output_type": "execute_result"
    }
   ],
   "source": [
    "len(x_temp)"
   ]
  },
  {
   "cell_type": "code",
   "execution_count": 169,
   "id": "ed42a143-5a31-4580-ab07-f63f354b6422",
   "metadata": {},
   "outputs": [],
   "source": [
    "from sklearn.feature_extraction.text import CountVectorizer\n",
    "\n",
    "count_ngram = CountVectorizer(ngram_range=(2,2))\n",
    "X_train_transformed_ngram = count_ngram.fit_transform(x_temp)"
   ]
  },
  {
   "cell_type": "code",
   "execution_count": 170,
   "id": "c66feb94-34e5-47db-9fd8-97723753b075",
   "metadata": {},
   "outputs": [],
   "source": [
    "vocab = count_ngram.vocabulary_"
   ]
  },
  {
   "cell_type": "code",
   "execution_count": 171,
   "id": "60a7903b-c016-4df5-9c2e-a1aa10a351b4",
   "metadata": {},
   "outputs": [],
   "source": [
    "count_values = X_train_transformed_ngram.toarray().sum(axis=0)\n",
    "ng_text_feq =[]\n",
    "for ng_count, ng_text in sorted([(count_values[i],k) for k,i in vocab.items()], reverse=True):\n",
    "    if ng_count>7:\n",
    "        #print(ng_count, ng_text)\n",
    "        ng_text_feq.append(ng_text)"
   ]
  },
  {
   "cell_type": "code",
   "execution_count": 172,
   "id": "53f769c4-f52d-4862-b915-0ac9f667d330",
   "metadata": {},
   "outputs": [
    {
     "data": {
      "text/plain": [
       "8001"
      ]
     },
     "execution_count": 172,
     "metadata": {},
     "output_type": "execute_result"
    }
   ],
   "source": [
    "len(ng_text_feq)"
   ]
  },
  {
   "cell_type": "code",
   "execution_count": 173,
   "id": "d46b3ba4-3741-41c1-a3eb-dbd4c87129e0",
   "metadata": {},
   "outputs": [
    {
     "data": {
      "text/plain": [
       "['буркина фасо',\n",
       " 'иностранных дел',\n",
       " 'фасо мали',\n",
       " 'премьер министр',\n",
       " 'главы государства',\n",
       " 'секторе газа',\n",
       " 'премьер министра',\n",
       " 'западной африки',\n",
       " 'глава мид',\n",
       " 'министр иностранных',\n",
       " 'говорится сообщении',\n",
       " 'вооруженных сил',\n",
       " 'двух стран',\n",
       " 'президентских выборов',\n",
       " 'российской федерации',\n",
       " 'мали нигер',\n",
       " 'переходного периода',\n",
       " 'россия африка',\n",
       " 'президентских выборах',\n",
       " 'стран западной']"
      ]
     },
     "execution_count": 173,
     "metadata": {},
     "output_type": "execute_result"
    }
   ],
   "source": [
    "ng_text_feq[:20]"
   ]
  },
  {
   "cell_type": "code",
   "execution_count": 175,
   "id": "464071c1-ec38-4f0a-8b14-765f057c6e9c",
   "metadata": {},
   "outputs": [],
   "source": [
    "corpus_with_ngram = []\n",
    "item_underscore =''\n",
    "for text in x_temp:    \n",
    "    for item in ng_text_feq:\n",
    "        text = text.replace(item, item.replace(' ', '_'))        \n",
    "    corpus_with_ngram.append(text)"
   ]
  },
  {
   "cell_type": "code",
   "execution_count": 176,
   "id": "e84cb7ad-ef7e-41d0-afc2-036ad3d28a18",
   "metadata": {},
   "outputs": [],
   "source": [
    "X_train_transformed_ngram = count_ngram.fit_transform(corpus_with_ngram)\n",
    "vocab = count_ngram.vocabulary_"
   ]
  },
  {
   "cell_type": "code",
   "execution_count": 177,
   "id": "f61b835f-35f7-4333-b75f-01694708dfb8",
   "metadata": {},
   "outputs": [],
   "source": [
    "count_values = X_train_transformed_ngram.toarray().sum(axis=0)\n",
    "ng_text_feq =[]\n",
    "for ng_count, ng_text in sorted([(count_values[i],k) for k,i in vocab.items()], reverse=True):\n",
    "    if ng_count>7:\n",
    "        #print(ng_count, ng_text)\n",
    "        ng_text_feq.append(ng_text)"
   ]
  },
  {
   "cell_type": "code",
   "execution_count": 178,
   "id": "94a217c2-0642-4fda-a0f9-ab970e2ea5f6",
   "metadata": {},
   "outputs": [
    {
     "data": {
      "text/plain": [
       "1"
      ]
     },
     "execution_count": 178,
     "metadata": {},
     "output_type": "execute_result"
    }
   ],
   "source": [
    "len(ng_text_feq)"
   ]
  },
  {
   "cell_type": "code",
   "execution_count": 179,
   "id": "ae5e4a75-4983-4890-a8e0-6df42d03435f",
   "metadata": {},
   "outputs": [
    {
     "data": {
      "text/plain": [
       "['кот ивуар']"
      ]
     },
     "execution_count": 179,
     "metadata": {},
     "output_type": "execute_result"
    }
   ],
   "source": [
    "ng_text_feq[:20]"
   ]
  },
  {
   "cell_type": "code",
   "execution_count": 180,
   "id": "dc99313d-74a1-4012-a600-1fd50b222455",
   "metadata": {},
   "outputs": [],
   "source": [
    "import numpy as np\n",
    "from sklearn.model_selection import train_test_split\n",
    "\n",
    "\n",
    "X = np.array(corpus_with_ngram, dtype=object)\n",
    "y = np.array(y_temp)\n",
    "\n",
    "X_train, X_test, y_train, y_test = train_test_split(X, y, test_size=0.2, random_state=42)"
   ]
  },
  {
   "cell_type": "code",
   "execution_count": 181,
   "id": "e1eb4c12-2fc7-49f0-bf65-7e46c8b52715",
   "metadata": {},
   "outputs": [],
   "source": [
    "try:\n",
    "    import urlextract # may require an Internet connection to download root domain names\n",
    "    \n",
    "    url_extractor = urlextract.URLExtract()\n",
    "except ImportError:\n",
    "    url_extractor = None"
   ]
  },
  {
   "cell_type": "code",
   "execution_count": 182,
   "id": "a825b31e-6a98-406d-9a3b-68624fc9ba99",
   "metadata": {},
   "outputs": [
    {
     "name": "stdout",
     "output_type": "stream",
     "text": [
      "[CV] END ................................ score: (test=0.430) total time=   5.9s\n",
      "[CV] END ................................ score: (test=0.448) total time=   0.4s\n",
      "[CV] END ................................ score: (test=0.438) total time=   0.4s\n",
      "shape_vocabulary - 100, Precision: 43.88%\n",
      "[CV] END ................................ score: (test=0.650) total time=   0.5s\n",
      "[CV] END ................................ score: (test=0.657) total time=   0.4s\n",
      "[CV] END ................................ score: (test=0.644) total time=   0.4s\n",
      "shape_vocabulary - 300, Precision: 65.03%\n",
      "[CV] END ................................ score: (test=0.712) total time=   0.5s\n",
      "[CV] END ................................ score: (test=0.738) total time=   0.4s\n",
      "[CV] END ................................ score: (test=0.713) total time=   0.5s\n",
      "shape_vocabulary - 600, Precision: 72.09%\n",
      "[CV] END ................................ score: (test=0.735) total time=   0.5s\n",
      "[CV] END ................................ score: (test=0.751) total time=   0.5s\n",
      "[CV] END ................................ score: (test=0.736) total time=   0.5s\n",
      "shape_vocabulary - 1000, Precision: 74.08%\n",
      "[CV] END ................................ score: (test=0.790) total time=   1.2s\n",
      "[CV] END ................................ score: (test=0.799) total time=   1.0s\n",
      "[CV] END ................................ score: (test=0.795) total time=   1.0s\n",
      "shape_vocabulary - 5000, Precision: 79.45%\n",
      "[CV] END ................................ score: (test=0.808) total time=   1.6s\n",
      "[CV] END ................................ score: (test=0.809) total time=   1.3s\n",
      "[CV] END ................................ score: (test=0.806) total time=   1.0s\n",
      "shape_vocabulary - 10000, Precision: 80.77%\n",
      "[CV] END ................................ score: (test=0.817) total time=   2.0s\n",
      "[CV] END ................................ score: (test=0.822) total time=   2.4s\n",
      "[CV] END ................................ score: (test=0.817) total time=   2.1s\n",
      "shape_vocabulary - 20000, Precision: 81.85%\n",
      "[CV] END ................................ score: (test=0.816) total time=   3.3s\n",
      "[CV] END ................................ score: (test=0.822) total time=   3.7s\n",
      "[CV] END ................................ score: (test=0.818) total time=   3.4s\n",
      "shape_vocabulary - 30000, Precision: 81.89%\n",
      "[CV] END ................................ score: (test=0.813) total time=   6.1s\n",
      "[CV] END ................................ score: (test=0.822) total time=   5.5s\n",
      "[CV] END ................................ score: (test=0.818) total time=   5.5s\n",
      "shape_vocabulary - 50000, Precision: 81.75%\n",
      "[CV] END ................................ score: (test=0.811) total time=   9.0s\n",
      "[CV] END ................................ score: (test=0.819) total time=   9.8s\n",
      "[CV] END ................................ score: (test=0.817) total time=   8.2s\n",
      "shape_vocabulary - 75000, Precision: 81.55%\n"
     ]
    }
   ],
   "source": [
    "from sklearn.linear_model import LogisticRegression\n",
    "from sklearn.model_selection import cross_val_score\n",
    "from sklearn.feature_extraction.text import CountVectorizer\n",
    "shape_vocabulary_iter=[100, 300, 600, 1000, 5000, 10000, 20000, 30000, 50000, 75000]\n",
    "Precision =[]\n",
    "for shape_vocabulary in shape_vocabulary_iter: \n",
    "    count = CountVectorizer( max_features=shape_vocabulary)\n",
    "    X_train_transformed = count.fit_transform(X_train)\n",
    "    log_clf = LogisticRegression(solver=\"lbfgs\", max_iter=5000, random_state=42, n_jobs=-1)\n",
    "    score = cross_val_score(log_clf, X_train_transformed, y_train, cv=3, verbose=3)\n",
    "    Precision.append(score.mean()*100)\n",
    "    print('shape_vocabulary - {}, Precision: {:.2f}%'.format(shape_vocabulary,score.mean()*100))\n"
   ]
  },
  {
   "cell_type": "code",
   "execution_count": 183,
   "id": "d7d468a8-842c-4704-af60-4d0e0374bed1",
   "metadata": {},
   "outputs": [
    {
     "data": {
      "image/png": "[encoded data removed]",
      "text/plain": [
       "<Figure size 640x480 with 1 Axes>"
      ]
     },
     "metadata": {},
     "output_type": "display_data"
    }
   ],
   "source": [
    "import matplotlib.pyplot as plt\n",
    "plt.title(\"Зависимость точности модели от размера словаря\")\n",
    "plt.plot(shape_vocabulary_iter, Precision)\n",
    "plt.plot([0, 1], ls=\"--\")\n",
    "plt.plot([0, 0], [1, 0] , c=\".7\")\n",
    "plt.plot([1, 1] , c=\".7\")\n",
    "plt.ylabel(\"Точность модели, %\")\n",
    "plt.xlabel(\"Размер словаря, токинов\")\n",
    "plt.show()"
   ]
  },
  {
   "cell_type": "code",
   "execution_count": 184,
   "id": "9d0bc31c-0530-4b5c-ba4f-88c390a3cac4",
   "metadata": {},
   "outputs": [],
   "source": [
    "from sklearn.feature_extraction.text import CountVectorizer\n",
    "\n",
    "#count = CountVectorizer(vocabulary = set(X_train_words), max_df=10)\n",
    "count = CountVectorizer( max_features=20000)\n",
    "X_train_transformed = count.fit_transform(X_train)"
   ]
  },
  {
   "cell_type": "code",
   "execution_count": 185,
   "id": "38786cc6-81bb-491a-a6d5-bb8960724c9e",
   "metadata": {},
   "outputs": [
    {
     "data": {
      "text/plain": [
       "array([[0, 0, 0, ..., 0, 0, 0],\n",
       "       [0, 0, 0, ..., 0, 0, 0],\n",
       "       [0, 0, 0, ..., 0, 0, 0],\n",
       "       ...,\n",
       "       [0, 0, 0, ..., 0, 0, 0],\n",
       "       [0, 0, 0, ..., 0, 0, 0],\n",
       "       [0, 0, 0, ..., 0, 0, 0]], dtype=int64)"
      ]
     },
     "execution_count": 185,
     "metadata": {},
     "output_type": "execute_result"
    }
   ],
   "source": [
    "X_train_transformed.toarray()"
   ]
  },
  {
   "cell_type": "code",
   "execution_count": 186,
   "id": "8ae10f83-4000-4430-868d-cfcf6b11c999",
   "metadata": {},
   "outputs": [
    {
     "data": {
      "text/plain": [
       "(6926, 20000)"
      ]
     },
     "execution_count": 186,
     "metadata": {},
     "output_type": "execute_result"
    }
   ],
   "source": [
    "X_train_transformed.shape"
   ]
  },
  {
   "cell_type": "code",
   "execution_count": 187,
   "id": "e803d93a-2f34-473f-a5c3-750c250ccdb4",
   "metadata": {},
   "outputs": [],
   "source": [
    "vocabulary_count = set(count.get_feature_names_out())"
   ]
  },
  {
   "cell_type": "code",
   "execution_count": 188,
   "id": "cb474969-428d-40e2-a0a2-06c10484f28d",
   "metadata": {},
   "outputs": [
    {
     "name": "stdout",
     "output_type": "stream",
     "text": [
      "[CV] END ................................ score: (test=0.817) total time=   2.1s\n",
      "[CV] END ................................ score: (test=0.822) total time=   2.4s\n",
      "[CV] END ................................ score: (test=0.817) total time=   2.1s\n",
      "0.8185097672458936\n",
      "[0.83477633 0.83032491 0.83898917 0.84043321 0.81949458]\n",
      "[0.83311497 0.83406376 0.83117165 0.83888255 0.82029527]\n"
     ]
    }
   ],
   "source": [
    "from sklearn.linear_model import LogisticRegression\n",
    "from sklearn.model_selection import cross_val_score\n",
    "\n",
    "log_clf = LogisticRegression(solver=\"lbfgs\", max_iter=5000, random_state=42, n_jobs=-1)\n",
    "score = cross_val_score(log_clf, X_train_transformed, y_train, cv=3, verbose=3)\n",
    "print(score.mean())\n",
    "print(cross_val_score(log_clf, X_train_transformed, y_train, scoring='accuracy'))\n",
    "print(cross_val_score(log_clf, X_train_transformed, y_train, scoring='f1_macro'))"
   ]
  },
  {
   "cell_type": "code",
   "execution_count": 189,
   "id": "66d33059-e159-487c-b23f-12a2709a502b",
   "metadata": {},
   "outputs": [
    {
     "data": {
      "text/plain": [
       "array(['ababil', 'adani', 'aes', ..., 'ክፍለ', 'ወልደ', 'የኢትዮጵያ'],\n",
       "      dtype=object)"
      ]
     },
     "execution_count": 189,
     "metadata": {},
     "output_type": "execute_result"
    }
   ],
   "source": [
    "count.get_feature_names_out()"
   ]
  },
  {
   "cell_type": "code",
   "execution_count": 190,
   "id": "24febdb5-06cd-4fb6-bcb5-6a8eeefb20a5",
   "metadata": {},
   "outputs": [
    {
     "name": "stdout",
     "output_type": "stream",
     "text": [
      "Precision: 98.79%\n",
      "Recall: 98.73%\n"
     ]
    }
   ],
   "source": [
    "from sklearn.metrics import precision_score, recall_score\n",
    "\n",
    "X_test_transformed = count.transform(X_test)\n",
    "\n",
    "log_clf = LogisticRegression(solver=\"lbfgs\", max_iter=20000, random_state=42)\n",
    "log_clf.fit(X_test_transformed, y_test)\n",
    "\n",
    "y_pred = log_clf.predict(X_test_transformed)\n",
    "\n",
    "print(\"Precision: {:.2f}%\".format(100 * precision_score(y_test, y_pred, average='weighted')))\n",
    "print(\"Recall: {:.2f}%\".format(100 * recall_score(y_test, y_pred, average='weighted')))"
   ]
  },
  {
   "cell_type": "code",
   "execution_count": 191,
   "id": "2d110e1a-e4ea-4003-949e-1eb3acd6d68b",
   "metadata": {},
   "outputs": [
    {
     "data": {
      "image/png": "[encoded data removed]",
      "text/plain": [
       "<Figure size 640x480 with 1 Axes>"
      ]
     },
     "metadata": {},
     "output_type": "display_data"
    }
   ],
   "source": [
    "# Загруэи~ь библио~еки\n",
    "import matplotlib.pyplot as plt\n",
    "import seaborn as sns #pip install seaborn\n",
    "from sklearn.metrics import confusion_matrix\n",
    "import pandas as pd\n",
    "# Создать матрицу ошибок\n",
    "matrix = confusion_matrix(y_test, y_pred)\n",
    "# Создать структуру DataFrame библиотеки pandas\n",
    "dataframe = pd.DataFrame(matrix, index=log_clf.classes_, columns=log_clf.classes_)\n",
    "# Создать тепловую карту\n",
    "sns.heatmap(dataframe, annot=True, cbar=None, cmap=\"Blues\")\n",
    "plt.title(\"Maтpицa ошибок\")\n",
    "plt.tight_layout()\n",
    "plt.ylabel(\"Истинный класс\")\n",
    "plt.xlabel(\"Предсказанный класс\")\n",
    "plt.show()"
   ]
  },
  {
   "cell_type": "code",
   "execution_count": 192,
   "id": "d4bdba38-2351-4a27-a35f-e793be566efa",
   "metadata": {},
   "outputs": [],
   "source": [
    "import pickle\n",
    "with open('contry_post-model_ngram_LogReg.bin', 'wb') as f_out:\n",
    "    pickle.dump([log_clf, log_clf.classes_], f_out)"
   ]
  },
  {
   "cell_type": "code",
   "execution_count": 193,
   "id": "05cb53a2-d829-49c1-bb8e-34cb8971ef3f",
   "metadata": {},
   "outputs": [
    {
     "name": "stdout",
     "output_type": "stream",
     "text": [
      "['Mali' 'Afganistan' 'China' 'India' 'Venesuela']\n",
      "Predicted Probabilities: ['Mali' 'Afganistan' 'China' 'India' 'Venesuela'] - [[0.002054   0.01103182 0.00129727 0.00400233 0.00472524 0.00246321\n",
      "  0.00548178 0.00146516 0.00228592 0.00254718 0.00443961 0.00181452\n",
      "  0.00653762 0.00300382 0.00182043 0.00347158 0.00671317 0.43909294\n",
      "  0.0037556  0.14309018 0.00241513 0.31961484 0.00394624 0.00634305\n",
      "  0.00372589 0.00319124 0.00318607 0.00411529 0.00236887]\n",
      " [0.60508509 0.00421004 0.01039287 0.01957629 0.01633972 0.011134\n",
      "  0.07129863 0.00849252 0.00686009 0.02885533 0.01470615 0.01626273\n",
      "  0.01472495 0.02068761 0.00684359 0.00701443 0.01090507 0.03263778\n",
      "  0.00468698 0.00478148 0.00548577 0.00956955 0.01411732 0.01249553\n",
      "  0.01198534 0.00780419 0.00513024 0.00979452 0.0081222 ]\n",
      " [0.00707197 0.00340051 0.00410068 0.01980333 0.01430075 0.00605838\n",
      "  0.67267288 0.00338759 0.00822443 0.00505021 0.00666146 0.00537002\n",
      "  0.06588837 0.03146305 0.01318384 0.00974109 0.00442415 0.00749904\n",
      "  0.00414904 0.01266072 0.00447499 0.0210763  0.00686477 0.01904156\n",
      "  0.01017669 0.00935691 0.01060005 0.00609679 0.00720044]\n",
      " [0.03104724 0.05763489 0.02362162 0.02560328 0.03090017 0.01536212\n",
      "  0.07253677 0.01559169 0.00760189 0.02789959 0.01190498 0.01076665\n",
      "  0.43110108 0.03000485 0.00742986 0.02329171 0.00976813 0.01318756\n",
      "  0.01435725 0.00576928 0.00514275 0.00951268 0.01729675 0.0321369\n",
      "  0.02415839 0.01382775 0.00933161 0.01025872 0.01295385]\n",
      " [0.03325362 0.00879305 0.01735142 0.03008057 0.04237291 0.04158937\n",
      "  0.06729218 0.0177199  0.01391285 0.02396196 0.02041475 0.01032451\n",
      "  0.16797816 0.04988666 0.01597064 0.01529888 0.01206655 0.01413018\n",
      "  0.01430278 0.01127327 0.00719014 0.04909437 0.01720913 0.04187514\n",
      "  0.02471686 0.02141846 0.17198258 0.01217707 0.02636202]]\n"
     ]
    }
   ],
   "source": [
    "new_text = ['Нигер последовал примеру Мали, разорвав связи с Украиной после того, как пресс-секретарь разведывательного агентства Министерства обороны Украины признал, что Украина оказывала поддержку повстанцам, которые убили малийских вооруженных сил и российских агентов 25-27 июля в Тинзауатене, на севере Мали, недалеко от границы с Алжиром.Посол Украины в Сенегале также выразил безоговорочную поддержку малийским повстанцам, что привело к вызову посла в МИД Сенегала.',\n",
    "            'Еще новости афганской промышленности. В Кандагаре спустя 18 лет возобновила работу текстильная фабрика. Официальные лица говорят, что они отремонтировали оборудование на фабрике за шесть месяцев, сообщают афганское СМИ. По словам работников фабрики, с возобновлением работы фабрики созданы рабочие места. 69-летний Мохаммад, проработавший на текстильной фабрике в Кандагаре значительное время, рад вернуться на работу.',\n",
    "           'Накопленное непонимание между Китаем и США не может быть решено лишь одним подобным изящным жестом. Страны расходятся по широкому кругу вопросов, санкционный механизм против Китая не ослаблен. Поэтому отправка панд – это скорее демонстрация миролюбивой позиции Китая в противовес США.',\n",
    "            'В Алжир, как правило, на похоронах мужчины сидят около дома, хорошо, если есть сад или терраса, а женщины в доме, надеть платок женщина должна обязательно, даже если в обычной жизни она не покрывает голову. Если покойный жил в квартире, то прямо во дворе ставят стулья и шатры со столами для мужчин.Готовят либо нанятые кухарки, либо родственницы покойного. Пока составляла пост от подруги услышала,что в их семье часто еду приносят те, кто приходит в дом, а готовить должны невестки, а не дочери умершего. Мой муж сказал, что это совершенно необязательно, на похоронах его бабушки готовили только её дочери, это было их желание и никаких особых правил на счёт этого нет. Обязательного блюда на поминки в Алжире нет. Народ приходит помянутьот трех дней до недели, если у человека была большая семья и много знакомых!Кормят традиционными блюдами: суп-шорба, кус-кус/беркукес/тлитли с мясом и т.д.Могилу посещают каждое утро, в течении трех дней. Через 40 дней устанавливают небольшое надгробие, никаких памятников,вычурных элементов. На надгробии имя, фамилия, даты рождения и смерти, фотографий нет. Вроде бы написала всё, что знала. Задавайте вопросы в комментариях, если таковые имеются.',\n",
    "            'Сегодня в Венесуэле проходят президентские выборы. Мой коллега Дмитрий Морозов рассуждает, как их итоги могут повлиять на дальнейший путь страны. Вот самое важное из его статьи.📍В выборах один тур, участвуют десять кандидатов, однако только двое имеют реальные шансы на победу: действующий президент Николас Мадуро и Эдмундо Гонсалес Уррутия, кандидат от Единой демократической платформы, объединяющей наиболее значимые оппозиционные партии.'\n",
    "           ]\n",
    "x_temp = []\n",
    "for post_temp in new_text:\n",
    "        content = str(post_temp).lower()  \n",
    "        content = remove_emojis(content)\n",
    "        content = remove_chars_from_text(content, spec_chars)\n",
    "        content = remove_chars_from_text(content, string.digits)\n",
    "        for i in range(1, 10):\n",
    "            content = content.replace('  ', ' ')\n",
    "        filtered_words = []\n",
    "        for token in content.split():\n",
    "            if token not in ru_stopwords and len(token)>2:\n",
    "                if stemming and token is not None:\n",
    "                    filtered_words.append(stemmer.stem(token))\n",
    "                    #print('{} -{}'.format(token,stemmer.stem(token)))\n",
    "                else:\n",
    "                    filtered_words.append(token)\n",
    "        content = ' '.join(filtered_words)                      \n",
    "        x_temp.append(content)\n",
    "   \n",
    "count = CountVectorizer(vocabulary = set(count.get_feature_names_out()))\n",
    "#count = CountVectorizer(vocabulary = set(X_train_words))\n",
    "X_t = count.transform(x_temp)\n",
    "accuracy = log_clf.predict(X_t)\n",
    "print (accuracy)\n",
    "print ('Predicted Probabilities: {} - {}'.format(log_clf.predict(X_t), log_clf.predict_proba(X_t)))"
   ]
  },
  {
   "cell_type": "code",
   "execution_count": 194,
   "id": "691cfcb9-91a4-46d6-af4d-9e6f589ccbd6",
   "metadata": {},
   "outputs": [
    {
     "data": {
      "text/plain": [
       "array(['Afganistan', 'Algeria', 'Argentina', 'Burkina Faso', 'CAR',\n",
       "       'Chad', 'China', 'DRK_Congo', 'Egipet', 'Ethiopia', 'GanaGana',\n",
       "       'Gvineya', 'India', 'Iran', 'KNDR', 'Laos', 'Libya', 'Mali',\n",
       "       'Morocco', 'Niger', 'Pakistan', 'Senegal', 'Sudan', 'Syria',\n",
       "       'Tunis', 'Turkey', 'Venesuela', 'Vetnam', 'Zimbabve'], dtype='<U12')"
      ]
     },
     "execution_count": 194,
     "metadata": {},
     "output_type": "execute_result"
    }
   ],
   "source": [
    "log_clf.classes_"
   ]
  },
  {
   "cell_type": "code",
   "execution_count": null,
   "id": "32401bd9-d5a9-4949-aeef-c46cf45ca13c",
   "metadata": {},
   "outputs": [],
   "source": []
  },
  {
   "cell_type": "code",
   "execution_count": null,
   "id": "24a4c69c-2257-4bec-b554-b927af0a05aa",
   "metadata": {},
   "outputs": [],
   "source": []
  }
 ],
 "metadata": {
  "kernelspec": {
   "display_name": "Python 3 (ipykernel)",
   "language": "python",
   "name": "python3"
  },
  "language_info": {
   "codemirror_mode": {
    "name": "ipython",
    "version": 3
   },
   "file_extension": ".py",
   "mimetype": "text/x-python",
   "name": "python",
   "nbconvert_exporter": "python",
   "pygments_lexer": "ipython3",
   "version": "3.11.0"
  }
 },
 "nbformat": 4,
 "nbformat_minor": 5
}
