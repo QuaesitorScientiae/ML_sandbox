{
 "cells": [
  {
   "cell_type": "code",
   "execution_count": 117,
   "id": "a8fa3dfd-2fd1-425a-b850-6264639551a4",
   "metadata": {},
   "outputs": [
    {
     "name": "stdout",
     "output_type": "stream",
     "text": [
      "D:/ML/\n",
      "Afganistan\n",
      "China\n",
      "CAR\n",
      "Ethiopia\n",
      "India\n",
      "Iran\n",
      "KNDR\n",
      "Libya\n",
      "Morocco\n",
      "Sudan\n",
      "Syria\n",
      "Turkey\n",
      "Argentina\n",
      "DRK_Congo\n",
      "Burkina Faso\n"
     ]
    }
   ],
   "source": [
    "import os\n",
    "import tarfile\n",
    "import urllib.request\n",
    "\n",
    "DOWNLOAD_ROOT = \"D:/ML/\"\n",
    "print(DOWNLOAD_ROOT)\n",
    "DATASET_PATH = os.path.join(\"datasets\", \"Countries\")\n",
    "DIR_PATH = {\"Afganistan\":os.path.join(DATASET_PATH, \"Afganistan\"),\n",
    "            \"China\":os.path.join(DATASET_PATH, \"China\"),\n",
    "            \"CAR\":os.path.join(DATASET_PATH, \"CAR\"),\n",
    "           \"Ethiopia\":os.path.join(DATASET_PATH, \"Ethiopia\"),\n",
    "           \"India\":os.path.join(DATASET_PATH, \"India\"),\n",
    "           \"Iran\":os.path.join(DATASET_PATH, \"Iran\"),\n",
    "            \"KNDR\":os.path.join(DATASET_PATH, \"KNDR\"),\n",
    "            \"Libya\":os.path.join(DATASET_PATH, \"Libya\"),\n",
    "           \"Morocco\":os.path.join(DATASET_PATH, \"Morocco\"),\n",
    "           \"Sudan\":os.path.join(DATASET_PATH, \"Sudan\"),\n",
    "           \"Syria\":os.path.join(DATASET_PATH, \"Syria\"),\n",
    "           \"Turkey\":os.path.join(DATASET_PATH, \"Turkey\"),\n",
    "            \"Argentina\":os.path.join(DATASET_PATH, \"Argentina\"),\n",
    "            #\"LatAmerica\":os.path.join(DATASET_PATH, \"LatAmerica\"),\n",
    "            \"DRK_Congo\":os.path.join(DATASET_PATH, \"DRK_Congo\"),\n",
    "            \"Burkina Faso\":os.path.join(DATASET_PATH, \"Burkina Faso\")\n",
    "           }\n",
    "filenames = {}\n",
    "for items in DIR_PATH.keys():\n",
    "    print(items)\n",
    "    filenames[items] = [name for name in sorted(os.listdir(DIR_PATH[items])) if len(name) > 20] "
   ]
  },
  {
   "cell_type": "code",
   "execution_count": 118,
   "id": "5f8c7ecd-412e-497f-bce8-bb31fc2d3c70",
   "metadata": {},
   "outputs": [],
   "source": [
    "stemming=True # Stemming control\n",
    "from nltk.stem.snowball import SnowballStemmer\n",
    "stemmer = SnowballStemmer(\"russian\")"
   ]
  },
  {
   "cell_type": "code",
   "execution_count": 119,
   "id": "66a986f5-0f7e-4ff7-bbe4-2df47daedaad",
   "metadata": {},
   "outputs": [],
   "source": [
    "ru_stopwords = set(\n",
    "        \"\"\"\n",
    "    а авось ага агу аж ай али алло ау ах ая\n",
    "    б будем будет будете будешь буду будут будучи будь будьте бы был была были было\n",
    "    быть бац без безусловно бишь благо благодаря ближайшие близко более больше\n",
    "    будто бывает бывала бывали бываю бывают бытует\n",
    "    в вам вами вас весь во вот все всё всего всей всем всём всеми всему всех всею\n",
    "    всея всю вся вы ваш ваша ваше ваши вдали вдобавок вдруг ведь везде вернее\n",
    "    взаимно взаправду видно вишь включая вместо внакладе вначале вне вниз внизу\n",
    "    вновь вовсе возможно воистину вокруг вон вообще вопреки вперекор вплоть\n",
    "    вполне вправду вправе впрочем впрямь вресноту вроде вряд всегда всюду\n",
    "    всякий всякого всякой всячески вчеред\n",
    "    г го где гораздо гав\n",
    "    д да для до дабы давайте давно давным даже далее далеко дальше данная\n",
    "    данного данное данной данном данному данные данный данных дану данунах\n",
    "    даром де действительно довольно доколе доколь долго должен должна\n",
    "    должно должны должный дополнительно другая другие другим другими\n",
    "    других другое другой\n",
    "    е его едим едят ее её ей ел ела ем ему емъ если ест есть ешь еще ещё ею едва\n",
    "    ежели еле\n",
    "    ж же\n",
    "    з за затем зато зачем здесь значит зря\n",
    "    и из или им ими имъ их ибо иль имеет имел имела имело именно иметь иначе\n",
    "    иногда иным иными итак ишь\n",
    "    й\n",
    "    к как кем ко когда кого ком кому комья которая которого которое которой котором\n",
    "    которому которою которую которые который которым которыми которых кто ка кабы\n",
    "    каждая каждое каждые каждый кажется казалась казались казалось казался казаться\n",
    "    какая какие каким какими каков какого какой какому какою касательно кой коли\n",
    "    коль конечно короче кроме кстати ку куда\n",
    "    л ли либо лишь любая любого любое любой любом любую любыми любых\n",
    "    м меня мне мной мною мог моги могите могла могли могло могу могут мое моё моего\n",
    "    моей моем моём моему моею можем может можете можешь мои мой моим моими моих\n",
    "    мочь мою моя мы мало меж между менее меньше мимо многие много многого многое\n",
    "    многом многому можно мол му\n",
    "    н на нам нами нас наса наш наша наше нашего нашей нашем нашему нашею наши нашим\n",
    "    нашими наших нашу не него нее неё ней нем нём нему нет нею ним ними них но\n",
    "    наверняка наверху навряд навыворот над надо назад наиболее наизворот\n",
    "    наизнанку наипаче накануне наконец наоборот наперед наперекор наподобие\n",
    "    например напротив напрямую насилу настоящая настоящее настоящие настоящий\n",
    "    насчет нате находиться начала начале неважно негде недавно недалеко незачем\n",
    "    некем некогда некому некоторая некоторые некоторый некоторых некто некуда\n",
    "    нельзя немногие немногим немного необходимо необходимости необходимые\n",
    "    необходимым неоткуда непрерывно нередко несколько нету неужели нечего\n",
    "    нечем нечему нечто нешто нибудь нигде ниже низко никак никакой никем\n",
    "    никогда никого никому никто никуда ниоткуда нипочем ничего ничем ничему\n",
    "    ничто ну нужная нужно нужного нужные нужный нужных ныне нынешнее нынешней\n",
    "    нынешних нынче\n",
    "    о об один одна одни одним одними одних одно одного одной одном одному одною\n",
    "    одну он она оне они оно от оба общую обычно ого однажды однако ой около оный\n",
    "    оп опять особенно особо особую особые откуда отнелижа отнелиже отовсюду\n",
    "    отсюда оттого оттот оттуда отчего отчему ох очевидно очень ом\n",
    "    п по при паче перед под подавно поди подобная подобно подобного подобные\n",
    "    подобный подобным подобных поелику пожалуй пожалуйста позже поистине\n",
    "    пока покамест поколе поколь покуда покудова помимо понеже поприще пор\n",
    "    пора посему поскольку после посреди посредством потом потому потомушта\n",
    "    похожем почему почти поэтому прежде притом причем про просто прочего\n",
    "    прочее прочему прочими проще прям пусть\n",
    "    р ради разве ранее рано раньше рядом\n",
    "    с сам сама сами самим самими самих само самого самом самому саму свое своё\n",
    "    своего своей своем своём своему своею свои свой своим своими своих свою своя\n",
    "    себе себя собой собою самая самое самой самый самых сверх свыше се сего сей\n",
    "    сейчас сие сих сквозь сколько скорее скоро следует слишком смогут сможет\n",
    "    сначала снова со собственно совсем сперва спокону спустя сразу среди сродни\n",
    "    стал стала стали стало стать суть сызнова\n",
    "    та то ту ты ти так такая такие таким такими таких такого такое такой таком такому такою\n",
    "    такую те тебе тебя тем теми тех тобой тобою того той только том томах тому\n",
    "    тот тою также таки таков такова там твои твоим твоих твой твоя твоё\n",
    "    теперь тогда тоже тотчас точно туда тут тьфу тая\n",
    "    у уже увы уж ура ух ую\n",
    "    ф фу\n",
    "    х ха хе хорошо хотел хотела хотелось хотеть хоть хотя хочешь хочу хуже\n",
    "    ч чего чем чём чему что чтобы часто чаще чей через чтоб чуть чхать чьим\n",
    "    чьих чьё чё\n",
    "    ш ша\n",
    "    щ ща щас\n",
    "    ы ых ые ый\n",
    "    э эта эти этим этими этих это этого этой этом этому этот этою эту эдак эдакий\n",
    "    эй эка экий этак этакий эх\n",
    "    ю\n",
    "    я явно явных яко якобы якоже\n",
    "    \n",
    "    и что не это  быть этот это свой как - этот весь быть что ▫ но г. %\n",
    "\n",
    "    afgbezparandzhi argentinarusa irandezhurniy info raspp\n",
    "    \"\"\".split()\n",
    "    )"
   ]
  },
  {
   "cell_type": "code",
   "execution_count": 120,
   "id": "1df2bc88-3e04-4d01-ba1c-44d4dc6e40b8",
   "metadata": {},
   "outputs": [],
   "source": [
    "from charset_normalizer import from_path\n",
    "import string\n",
    "\n",
    "def remove_chars_from_text(text, chars):\n",
    "    # return \"\".join([ch for ch in text if ch not in chars])\n",
    "    content = ''\n",
    "    for ch in text:\n",
    "        if ch not in chars:\n",
    "            content = content + ''.join(ch)\n",
    "        else:\n",
    "            content = content + ''.join(' ')\n",
    "    return content\n",
    "\n",
    "import re\n",
    "\n",
    "def remove_emojis(data):\n",
    "    emoj = re.compile(\"[\"\n",
    "        u\"\\U0001F600-\\U0001F64F\"  # emoticons\n",
    "        u\"\\U0001F300-\\U0001F5FF\"  # symbols & pictographs\n",
    "        u\"\\U0001F680-\\U0001F6FF\"  # transport & map symbols\n",
    "        u\"\\U0001F1E0-\\U0001F1FF\"  # flags (iOS)\n",
    "        u\"\\U00002500-\\U00002BEF\"  # chinese char\n",
    "        u\"\\U00002702-\\U000027B0\"\n",
    "        u\"\\U000024C2-\\U0001F251\"\n",
    "        u\"\\U0001f926-\\U0001f937\"\n",
    "        u\"\\U00010000-\\U0010ffff\"\n",
    "        u\"\\u2640-\\u2642\" \n",
    "        u\"\\u2600-\\u2B55\"\n",
    "        u\"\\u200d\"\n",
    "        u\"\\u23cf\"\n",
    "        u\"\\u23e9\"\n",
    "        u\"\\u231a\"\n",
    "        u\"\\ufe0f\"  # dingbats\n",
    "        u\"\\u3030\"\n",
    "                      \"]+\", re.UNICODE)\n",
    "    return re.sub(emoj, '', data)\n",
    "spec_chars = string.punctuation + '\\r' + '\\n\\xa0«»\\t—…' \n",
    "\n",
    "x_temp = []\n",
    "y_temp = []\n",
    "for item in filenames.keys():\n",
    "    post_temp=[]\n",
    "    for names in filenames[item]:\n",
    "        content = str(from_path(DIR_PATH[item]+\"\\\\\"+names).best()).lower()  \n",
    "        content = remove_emojis(content)\n",
    "        # content = re.sub(r'(\\\\u[0-9A-Fa-f]+)', lambda matchobj: chr(int(matchobj.group(0)[2:], 16)), content)\n",
    "        content = remove_chars_from_text(content, spec_chars)\n",
    "        content = remove_chars_from_text(content, string.digits)\n",
    "        for i in range(1, 10):\n",
    "            content = content.replace('  ', ' ')\n",
    "        filtered_words = []\n",
    "        for token in content.split():\n",
    "            if token not in ru_stopwords and len(token)>2:\n",
    "                if stemming and token is not None:\n",
    "                    filtered_words.append(stemmer.stem(token))\n",
    "                    #print('{} -{}'.format(token,stemmer.stem(token)))\n",
    "                else:\n",
    "                    filtered_words.append(token)\n",
    "                      \n",
    "        content = ' '.join(filtered_words)                \n",
    "        x_temp.append(content)\n",
    "        y_temp.append(item)"
   ]
  },
  {
   "cell_type": "code",
   "execution_count": 121,
   "id": "ce8becda-82d4-4c5a-979a-0c780839a1a6",
   "metadata": {},
   "outputs": [
    {
     "data": {
      "text/plain": [
       "['территор афганиста террористическ группировк представля угроз афганистан регион мир счаст приход иэ территор афганиста контрол исламск эмират заяв ведущ заместител официальн представител талиб била кар бреш территор афганиста прята террорист счита кар заяв приход талиб границ стран безопасн охраня времен пакистанск институт исследован пробл мир сообщ год территор афганиста соверш атак повлекш гибел ранен мирн жител лет налич тысяч боевик запрещ росс территор афганиста заявля спецпредставител президент афганистан замир кабул осен замглав мид росс олег сыромолот сообща налич афганистан терргруппировок общ числен тысяч человек',\n",
       " 'конгрессм республиканц нача расследован вывод войск сша афганистаначл палат представител конгресс республиканец майкл маккол потребова госдеп сша предостав документ связа вывод американск войск афганиста означа официальн нача расследован вопрос сообщ телекана cnn сообща маккол направ запрос четверг постав госдеп крайн срок ответ январ пригроз ведомств судебн разбирательств ответ послед сообща телекана страничн письм маккол запрос список межведомствен встреч администрац президент сша джо байден связа вывод войск информац об встреч талиб начин январ год письм указыва комитет заинтересова изучен последств вывод войск сша афганиста дан телекана маккол вмест коллег комитет год направля госдеп меньш мер три запрос получен интерес информац республиканц меньшинств палат представител начал работ конгресс нов состав ситуац поменя дан источник cnn госдеп прошл год провел собствен проверк отношен вывод американск войск результат обнародова сообща работ отчет заверш месяц талиба запрещен росс террористическ организац']"
      ]
     },
     "execution_count": 121,
     "metadata": {},
     "output_type": "execute_result"
    }
   ],
   "source": [
    "x_temp[:2]"
   ]
  },
  {
   "cell_type": "code",
   "execution_count": 122,
   "id": "dc99313d-74a1-4012-a600-1fd50b222455",
   "metadata": {},
   "outputs": [],
   "source": [
    "import numpy as np\n",
    "from sklearn.model_selection import train_test_split\n",
    "\n",
    "\n",
    "X = np.array(x_temp, dtype=object)\n",
    "y = np.array(y_temp)\n",
    "\n",
    "X_train, X_test, y_train, y_test = train_test_split(X, y, test_size=0.2, random_state=42)"
   ]
  },
  {
   "cell_type": "code",
   "execution_count": 123,
   "id": "e1eb4c12-2fc7-49f0-bf65-7e46c8b52715",
   "metadata": {},
   "outputs": [],
   "source": [
    "try:\n",
    "    import urlextract # may require an Internet connection to download root domain names\n",
    "    \n",
    "    url_extractor = urlextract.URLExtract()\n",
    "except ImportError:\n",
    "    url_extractor = None"
   ]
  },
  {
   "cell_type": "code",
   "execution_count": 124,
   "id": "6e104920-1308-4f62-9cbb-c0cc53c13565",
   "metadata": {},
   "outputs": [],
   "source": [
    "from sklearn.base import BaseEstimator, TransformerMixin\n",
    "import urlextract # may require an Internet connection to download root domain names\n",
    "import re\n",
    "from collections import Counter\n",
    "import nltk\n",
    "from tokenizer_exceptions import normalizer_exc_rus\n",
    "\n",
    "# stemmer = nltk.PorterStemmer()\n",
    "from nltk.stem.snowball import SnowballStemmer\n",
    "stemmer = SnowballStemmer(\"russian\")\n",
    "def Make_dict(X_text, strip_headers=True, lower_case=True,\n",
    "    remove_punctuation=True, replace_urls=True, replace_numbers=True,\n",
    "    stemming=True, remove_stopwords=True):\n",
    "    \n",
    "    X_transformed = []\n",
    "    for email in X_text:\n",
    "        text = email or \"\"\n",
    "        text = normalizer_exc_rus(text)\n",
    "        if lower_case:\n",
    "            text = text.lower()\n",
    "        if replace_urls and url_extractor is not None:\n",
    "            urls = list(set(url_extractor.find_urls(text)))\n",
    "            urls.sort(key=lambda url: len(url), reverse=True)\n",
    "            for url in urls:\n",
    "                text = text.replace(url, \"\")\n",
    "        if replace_numbers:\n",
    "            text = re.sub(r'\\d+(?:\\.\\d*)?(?:[eE][+-]?\\d+)?', '', text)\n",
    "        if remove_punctuation:\n",
    "            text = re.sub(r'\\W+', ' ', text, flags=re.M)\n",
    "        if remove_stopwords:\n",
    "            filtered_words = []\n",
    "            for token in text.split():\n",
    "                if token not in ru_stopwords and len(token)>2:\n",
    "                    filtered_words.append(token)\n",
    "    \n",
    "            # Join the filtered words to form a clean text\n",
    "            text = ' '.join(filtered_words)\n",
    "        word_counts = Counter(text.split())\n",
    "        if stemming and stemmer is not None:\n",
    "            stemmed_word_counts = Counter()\n",
    "            for word, count in word_counts.items():\n",
    "                stemmed_word = stemmer.stem(word)\n",
    "                stemmed_word_counts[stemmed_word] += count\n",
    "            word_counts = stemmed_word_counts\n",
    "        X_transformed.append(word_counts)\n",
    "    return np.array(X_transformed)"
   ]
  },
  {
   "cell_type": "code",
   "execution_count": 125,
   "id": "278c7b06-d0bb-4227-84aa-2fc590a9d407",
   "metadata": {},
   "outputs": [
    {
     "name": "stdout",
     "output_type": "stream",
     "text": [
      "['министр', 'иностра', 'дел', 'инд', 'джайшанкар', 'subrahmanyam', 'jaishankar']\n"
     ]
    }
   ],
   "source": [
    "X_train_dic = Make_dict(X_train, stemming=False)\n",
    "X_train_words = []\n",
    "for post in X_train_dic:\n",
    "    for word in post.keys():\n",
    "        X_train_words.append(word)\n",
    "print(X_train_words [:7])\n"
   ]
  },
  {
   "cell_type": "code",
   "execution_count": 126,
   "id": "a825b31e-6a98-406d-9a3b-68624fc9ba99",
   "metadata": {},
   "outputs": [
    {
     "name": "stdout",
     "output_type": "stream",
     "text": [
      "[CV] END ................................ score: (test=0.673) total time=   0.0s\n",
      "[CV] END ................................ score: (test=0.671) total time=   0.0s\n",
      "[CV] END ................................ score: (test=0.652) total time=   0.0s\n",
      "shape_vocabulary - 100, Precision: 66.56%\n",
      "[CV] END ................................ score: (test=0.812) total time=   0.0s\n",
      "[CV] END ................................ score: (test=0.824) total time=   0.0s\n",
      "[CV] END ................................ score: (test=0.817) total time=   0.0s\n",
      "shape_vocabulary - 300, Precision: 81.78%\n",
      "[CV] END ................................ score: (test=0.858) total time=   0.0s\n",
      "[CV] END ................................ score: (test=0.854) total time=   0.0s\n",
      "[CV] END ................................ score: (test=0.850) total time=   0.0s\n",
      "shape_vocabulary - 600, Precision: 85.39%\n",
      "[CV] END ................................ score: (test=0.876) total time=   0.0s\n",
      "[CV] END ................................ score: (test=0.872) total time=   0.0s\n",
      "[CV] END ................................ score: (test=0.871) total time=   0.0s\n",
      "shape_vocabulary - 1000, Precision: 87.30%\n",
      "[CV] END ................................ score: (test=0.901) total time=   0.2s\n",
      "[CV] END ................................ score: (test=0.906) total time=   0.3s\n",
      "[CV] END ................................ score: (test=0.891) total time=   0.3s\n",
      "shape_vocabulary - 5000, Precision: 89.92%\n",
      "[CV] END ................................ score: (test=0.905) total time=   0.4s\n",
      "[CV] END ................................ score: (test=0.908) total time=   0.4s\n",
      "[CV] END ................................ score: (test=0.897) total time=   0.5s\n",
      "shape_vocabulary - 10000, Precision: 90.35%\n",
      "[CV] END ................................ score: (test=0.902) total time=   0.6s\n",
      "[CV] END ................................ score: (test=0.909) total time=   0.8s\n",
      "[CV] END ................................ score: (test=0.900) total time=   0.8s\n",
      "shape_vocabulary - 20000, Precision: 90.38%\n",
      "[CV] END ................................ score: (test=0.902) total time=   0.9s\n",
      "[CV] END ................................ score: (test=0.911) total time=   1.0s\n",
      "[CV] END ................................ score: (test=0.898) total time=   1.0s\n",
      "shape_vocabulary - 30000, Precision: 90.38%\n",
      "[CV] END ................................ score: (test=0.902) total time=   1.0s\n",
      "[CV] END ................................ score: (test=0.911) total time=   1.2s\n",
      "[CV] END ................................ score: (test=0.901) total time=   1.0s\n",
      "shape_vocabulary - 50000, Precision: 90.43%\n",
      "[CV] END ................................ score: (test=0.902) total time=   1.0s\n",
      "[CV] END ................................ score: (test=0.911) total time=   1.1s\n",
      "[CV] END ................................ score: (test=0.901) total time=   1.1s\n",
      "shape_vocabulary - 75000, Precision: 90.43%\n"
     ]
    }
   ],
   "source": [
    "from sklearn.linear_model import LogisticRegression\n",
    "from sklearn.model_selection import cross_val_score\n",
    "from sklearn.feature_extraction.text import CountVectorizer\n",
    "shape_vocabulary_iter=[100, 300, 600, 1000, 5000, 10000, 20000, 30000, 50000, 75000]\n",
    "Precision =[]\n",
    "for shape_vocabulary in shape_vocabulary_iter: \n",
    "    count = CountVectorizer( max_features=shape_vocabulary)\n",
    "    X_train_transformed = count.fit_transform(X_train)\n",
    "    log_clf = LogisticRegression(solver=\"lbfgs\", max_iter=5000, random_state=42, n_jobs=-1)\n",
    "    score = cross_val_score(log_clf, X_train_transformed, y_train, cv=3, verbose=3)\n",
    "    Precision.append(score.mean()*100)\n",
    "    print('shape_vocabulary - {}, Precision: {:.2f}%'.format(shape_vocabulary,score.mean()*100))\n"
   ]
  },
  {
   "cell_type": "code",
   "execution_count": 127,
   "id": "d7d468a8-842c-4704-af60-4d0e0374bed1",
   "metadata": {},
   "outputs": [
    {
     "data": {
      "image/png": "[encoded data removed]",
      "text/plain": [
       "<Figure size 640x480 with 1 Axes>"
      ]
     },
     "metadata": {},
     "output_type": "display_data"
    }
   ],
   "source": [
    "import matplotlib.pyplot as plt\n",
    "plt.title(\"Зависимость точности модели от размера словаря\")\n",
    "plt.plot(shape_vocabulary_iter, Precision)\n",
    "plt.plot([0, 1], ls=\"--\")\n",
    "plt.plot([0, 0], [1, 0] , c=\".7\")\n",
    "plt.plot([1, 1] , c=\".7\")\n",
    "plt.ylabel(\"Точность модели, %\")\n",
    "plt.xlabel(\"Размер словаря, токинов\")\n",
    "plt.show()"
   ]
  },
  {
   "cell_type": "code",
   "execution_count": 128,
   "id": "9d0bc31c-0530-4b5c-ba4f-88c390a3cac4",
   "metadata": {},
   "outputs": [],
   "source": [
    "from sklearn.feature_extraction.text import CountVectorizer\n",
    "\n",
    "#count = CountVectorizer(vocabulary = set(X_train_words), max_df=10)\n",
    "count = CountVectorizer( max_features=20000)\n",
    "X_train_transformed = count.fit_transform(X_train)"
   ]
  },
  {
   "cell_type": "code",
   "execution_count": 129,
   "id": "38786cc6-81bb-491a-a6d5-bb8960724c9e",
   "metadata": {},
   "outputs": [
    {
     "data": {
      "text/plain": [
       "array([[0, 0, 0, ..., 0, 0, 0],\n",
       "       [0, 0, 0, ..., 0, 0, 0],\n",
       "       [0, 0, 0, ..., 0, 0, 0],\n",
       "       ...,\n",
       "       [0, 0, 0, ..., 0, 0, 0],\n",
       "       [0, 0, 0, ..., 0, 0, 0],\n",
       "       [0, 0, 0, ..., 0, 0, 0]], dtype=int64)"
      ]
     },
     "execution_count": 129,
     "metadata": {},
     "output_type": "execute_result"
    }
   ],
   "source": [
    "X_train_transformed.toarray()"
   ]
  },
  {
   "cell_type": "code",
   "execution_count": 130,
   "id": "8ae10f83-4000-4430-868d-cfcf6b11c999",
   "metadata": {},
   "outputs": [
    {
     "data": {
      "text/plain": [
       "(3929, 20000)"
      ]
     },
     "execution_count": 130,
     "metadata": {},
     "output_type": "execute_result"
    }
   ],
   "source": [
    "X_train_transformed.shape"
   ]
  },
  {
   "cell_type": "code",
   "execution_count": 131,
   "id": "e803d93a-2f34-473f-a5c3-750c250ccdb4",
   "metadata": {},
   "outputs": [],
   "source": [
    "vocabulary_count = set(count.get_feature_names_out())"
   ]
  },
  {
   "cell_type": "code",
   "execution_count": 132,
   "id": "cb474969-428d-40e2-a0a2-06c10484f28d",
   "metadata": {},
   "outputs": [
    {
     "name": "stdout",
     "output_type": "stream",
     "text": [
      "[CV] END ................................ score: (test=0.902) total time=   0.6s\n",
      "[CV] END ................................ score: (test=0.909) total time=   0.8s\n",
      "[CV] END ................................ score: (test=0.900) total time=   0.8s\n",
      "0.9037913291617826\n",
      "[0.91475827 0.90966921 0.92620865 0.89949109 0.90191083]\n",
      "[0.8982348  0.91560821 0.92898112 0.89701281 0.91204968]\n"
     ]
    }
   ],
   "source": [
    "from sklearn.linear_model import LogisticRegression\n",
    "from sklearn.model_selection import cross_val_score\n",
    "\n",
    "log_clf = LogisticRegression(solver=\"lbfgs\", max_iter=5000, random_state=42, n_jobs=-1)\n",
    "score = cross_val_score(log_clf, X_train_transformed, y_train, cv=3, verbose=3)\n",
    "print(score.mean())\n",
    "print(cross_val_score(log_clf, X_train_transformed, y_train, scoring='accuracy'))\n",
    "print(cross_val_score(log_clf, X_train_transformed, y_train, scoring='f1_macro'))"
   ]
  },
  {
   "cell_type": "code",
   "execution_count": 133,
   "id": "66d33059-e159-487c-b23f-12a2709a502b",
   "metadata": {},
   "outputs": [
    {
     "data": {
      "text/plain": [
       "array(['aaa', 'aamiddleeast', 'aatmapamphlet', ..., 'ጥሩነህ', 'ጥራጥሬ',\n",
       "       'ጻድቃን'], dtype=object)"
      ]
     },
     "execution_count": 133,
     "metadata": {},
     "output_type": "execute_result"
    }
   ],
   "source": [
    "count.get_feature_names_out()"
   ]
  },
  {
   "cell_type": "code",
   "execution_count": 134,
   "id": "24febdb5-06cd-4fb6-bcb5-6a8eeefb20a5",
   "metadata": {},
   "outputs": [
    {
     "name": "stdout",
     "output_type": "stream",
     "text": [
      "Precision: 99.22%\n",
      "Recall: 99.19%\n"
     ]
    }
   ],
   "source": [
    "from sklearn.metrics import precision_score, recall_score\n",
    "\n",
    "X_test_transformed = count.transform(X_test)\n",
    "\n",
    "log_clf = LogisticRegression(solver=\"lbfgs\", max_iter=20000, random_state=42)\n",
    "log_clf.fit(X_test_transformed, y_test)\n",
    "\n",
    "y_pred = log_clf.predict(X_test_transformed)\n",
    "\n",
    "print(\"Precision: {:.2f}%\".format(100 * precision_score(y_test, y_pred, average='weighted')))\n",
    "print(\"Recall: {:.2f}%\".format(100 * recall_score(y_test, y_pred, average='weighted')))"
   ]
  },
  {
   "cell_type": "code",
   "execution_count": 135,
   "id": "2d110e1a-e4ea-4003-949e-1eb3acd6d68b",
   "metadata": {},
   "outputs": [
    {
     "data": {
      "image/png": "[encoded data removed]",
      "text/plain": [
       "<Figure size 640x480 with 1 Axes>"
      ]
     },
     "metadata": {},
     "output_type": "display_data"
    }
   ],
   "source": [
    "# Загруэи~ь библио~еки\n",
    "import matplotlib.pyplot as plt\n",
    "import seaborn as sns #pip install seaborn\n",
    "from sklearn.metrics import confusion_matrix\n",
    "import pandas as pd\n",
    "# Создать матрицу ошибок\n",
    "matrix = confusion_matrix(y_test, y_pred)\n",
    "# Создать структуру DataFrame библиотеки pandas\n",
    "dataframe = pd.DataFrame(matrix, index=log_clf.classes_, columns=log_clf.classes_)\n",
    "# Создать тепловую карту\n",
    "sns.heatmap(dataframe, annot=True, cbar=None, cmap=\"Blues\")\n",
    "plt.title(\"Maтpицa ошибок\")\n",
    "plt.tight_layout()\n",
    "plt.ylabel(\"Истинный класс\")\n",
    "plt.xlabel(\"Предсказанный класс\")\n",
    "plt.show()"
   ]
  },
  {
   "cell_type": "code",
   "execution_count": 136,
   "id": "d4bdba38-2351-4a27-a35f-e793be566efa",
   "metadata": {},
   "outputs": [],
   "source": [
    "import pickle\n",
    "with open('contry_post-model.bin', 'wb') as f_out:\n",
    "    pickle.dump([log_clf, X_train_words], f_out)"
   ]
  },
  {
   "cell_type": "code",
   "execution_count": 144,
   "id": "05cb53a2-d829-49c1-bb8e-34cb8971ef3f",
   "metadata": {},
   "outputs": [
    {
     "name": "stdout",
     "output_type": "stream",
     "text": [
      "['CAR' 'Afganistan' 'China' 'India' 'Iran']\n",
      "Predicted Probabilities: ['CAR' 'Afganistan' 'China' 'India' 'Iran'] - [[0.08520222 0.0187122  0.00828603 0.22434121 0.11450808 0.0163422\n",
      "  0.07160061 0.17782155 0.04147487 0.03537971 0.0738369  0.04232285\n",
      "  0.06231132 0.01403765 0.01382261]\n",
      " [0.86690499 0.00560641 0.00335976 0.00740732 0.02720001 0.00425226\n",
      "  0.01098766 0.01974753 0.01185287 0.0097881  0.01148699 0.00468266\n",
      "  0.00630125 0.00438041 0.0060418 ]\n",
      " [0.03066903 0.01532882 0.00728184 0.04285077 0.64728278 0.0252329\n",
      "  0.01476179 0.05883693 0.04474792 0.01872291 0.01600343 0.02930827\n",
      "  0.02366254 0.00907832 0.01623174]\n",
      " [0.08743292 0.06435046 0.02639411 0.08082463 0.07831388 0.05140744\n",
      "  0.08998243 0.30331819 0.07298721 0.01661355 0.01724866 0.05047514\n",
      "  0.02530071 0.00760545 0.02774523]\n",
      " [0.03729762 0.04190457 0.0138742  0.09119267 0.06670596 0.03843628\n",
      "  0.02538441 0.11507704 0.32047209 0.01927201 0.09782565 0.03293114\n",
      "  0.04325786 0.01333664 0.04303185]]\n"
     ]
    }
   ],
   "source": [
    "new_text = ['Нигер последовал примеру Мали, разорвав связи с Украиной после того, как пресс-секретарь разведывательного агентства Министерства обороны Украины признал, что Украина оказывала поддержку повстанцам, которые убили малийских вооруженных сил и российских агентов 25-27 июля в Тинзауатене, на севере Мали, недалеко от границы с Алжиром.Посол Украины в Сенегале также выразил безоговорочную поддержку малийским повстанцам, что привело к вызову посла в МИД Сенегала.',\n",
    "            'Еще новости афганской промышленности. В Кандагаре спустя 18 лет возобновила работу текстильная фабрика. Официальные лица говорят, что они отремонтировали оборудование на фабрике за шесть месяцев, сообщают афганское СМИ. По словам работников фабрики, с возобновлением работы фабрики созданы рабочие места. 69-летний Мохаммад, проработавший на текстильной фабрике в Кандагаре значительное время, рад вернуться на работу.',\n",
    "           'Накопленное непонимание между Китаем и США не может быть решено лишь одним подобным изящным жестом. Страны расходятся по широкому кругу вопросов, санкционный механизм против Китая не ослаблен. Поэтому отправка панд – это скорее демонстрация миролюбивой позиции Китая в противовес США.',\n",
    "            'В Алжире, как правило, на похоронах мужчины сидят около дома, хорошо, если есть сад или терраса, а женщины в доме, надеть платок женщина должна обязательно, даже если в обычной жизни она не покрывает голову. Если покойный жил в квартире, то прямо во дворе ставят стулья и шатры со столами для мужчин.Готовят либо нанятые кухарки, либо родственницы покойного. Пока составляла пост от подруги услышала,что в их семье часто еду приносят те, кто приходит в дом, а готовить должны невестки, а не дочери умершего. Мой муж сказал, что это совершенно необязательно, на похоронах его бабушки готовили только её дочери, это было их желание и никаких особых правил на счёт этого нет. Обязательного блюда на поминки в Алжире нет. Народ приходит помянутьот трех дней до недели, если у человека была большая семья и много знакомых!Кормят традиционными блюдами: суп-шорба, кус-кус/беркукес/тлитли с мясом и т.д.Могилу посещают каждое утро, в течении трех дней. Через 40 дней устанавливают небольшое надгробие, никаких памятников,вычурных элементов. На надгробии имя, фамилия, даты рождения и смерти, фотографий нет. Вроде бы написала всё, что знала. Задавайте вопросы в комментариях, если таковые имеются.',\n",
    "            'Сегодня в Венесуэле проходят президентские выборы. Мой коллега Дмитрий Морозов рассуждает, как их итоги могут повлиять на дальнейший путь страны. Вот самое важное из его статьи.📍В выборах один тур, участвуют десять кандидатов, однако только двое имеют реальные шансы на победу: действующий президент Николас Мадуро и Эдмундо Гонсалес Уррутия, кандидат от Единой демократической платформы, объединяющей наиболее значимые оппозиционные партии.'\n",
    "           ]\n",
    "x_temp = []\n",
    "for post_temp in new_text:\n",
    "        content = str(post_temp).lower()  \n",
    "        content = remove_emojis(content)\n",
    "        content = remove_chars_from_text(content, spec_chars)\n",
    "        content = remove_chars_from_text(content, string.digits)\n",
    "        for i in range(1, 10):\n",
    "            content = content.replace('  ', ' ')\n",
    "        filtered_words = []\n",
    "        for token in content.split():\n",
    "            if token not in ru_stopwords and len(token)>2:\n",
    "                if stemming and token is not None:\n",
    "                    filtered_words.append(stemmer.stem(token))\n",
    "                    #print('{} -{}'.format(token,stemmer.stem(token)))\n",
    "                else:\n",
    "                    filtered_words.append(token)\n",
    "        content = ' '.join(filtered_words)                      \n",
    "        x_temp.append(content)\n",
    "   \n",
    "count = CountVectorizer(vocabulary = set(count.get_feature_names_out()))\n",
    "#count = CountVectorizer(vocabulary = set(X_train_words))\n",
    "X_t = count.transform(x_temp)\n",
    "accuracy = log_clf.predict(X_t)\n",
    "print (accuracy)\n",
    "print ('Predicted Probabilities: {} - {}'.format(log_clf.predict(X_t), log_clf.predict_proba(X_t)))"
   ]
  }
 ],
 "metadata": {
  "kernelspec": {
   "display_name": "Python 3 (ipykernel)",
   "language": "python",
   "name": "python3"
  },
  "language_info": {
   "codemirror_mode": {
    "name": "ipython",
    "version": 3
   },
   "file_extension": ".py",
   "mimetype": "text/x-python",
   "name": "python",
   "nbconvert_exporter": "python",
   "pygments_lexer": "ipython3",
   "version": "3.11.0"
  }
 },
 "nbformat": 4,
 "nbformat_minor": 5
}
